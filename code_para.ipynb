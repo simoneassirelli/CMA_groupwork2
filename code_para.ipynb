{
  "cells": [
    {
      "cell_type": "markdown",
      "metadata": {
        "id": "6q7PYs8bVUGJ"
      },
      "source": [
        "# *Assignment 2: UNSTRUCTURED DATA FOR MARKETING ANALYTICS*\n"
      ]
    },
    {
      "cell_type": "markdown",
      "metadata": {
        "id": "tnQg8er21UEe"
      },
      "source": [
        "# PART 1"
      ]
    },
    {
      "cell_type": "markdown",
      "metadata": {
        "id": "-lsNplHHXp5V"
      },
      "source": [
        "## Data Preparation"
      ]
    },
    {
      "cell_type": "code",
      "execution_count": 34,
      "metadata": {
        "colab": {
          "base_uri": "https://localhost:8080/"
        },
        "id": "-AMLw2U9UpLw",
        "outputId": "3694f672-81da-4ac6-8a40-9291af220ac2"
      },
      "outputs": [
        {
          "name": "stdout",
          "output_type": "stream",
          "text": [
            "Requirement already satisfied: pandas in d:\\anaconda\\lib\\site-packages (2.1.4)\n",
            "Requirement already satisfied: numpy<2,>=1.23.2 in d:\\anaconda\\lib\\site-packages (from pandas) (1.24.3)\n",
            "Requirement already satisfied: python-dateutil>=2.8.2 in d:\\anaconda\\lib\\site-packages (from pandas) (2.8.2)\n",
            "Requirement already satisfied: pytz>=2020.1 in d:\\anaconda\\lib\\site-packages (from pandas) (2023.3.post1)\n",
            "Requirement already satisfied: tzdata>=2022.1 in d:\\anaconda\\lib\\site-packages (from pandas) (2023.3)\n",
            "Requirement already satisfied: six>=1.5 in d:\\anaconda\\lib\\site-packages (from python-dateutil>=2.8.2->pandas) (1.16.0)\n",
            "Requirement already satisfied: textblob in d:\\anaconda\\lib\\site-packages (0.18.0.post0)\n",
            "Requirement already satisfied: nltk>=3.8 in d:\\anaconda\\lib\\site-packages (from textblob) (3.8.1)\n",
            "Requirement already satisfied: click in d:\\anaconda\\lib\\site-packages (from nltk>=3.8->textblob) (8.1.7)\n",
            "Requirement already satisfied: joblib in d:\\anaconda\\lib\\site-packages (from nltk>=3.8->textblob) (1.2.0)\n",
            "Requirement already satisfied: regex>=2021.8.3 in d:\\anaconda\\lib\\site-packages (from nltk>=3.8->textblob) (2023.10.3)\n",
            "Requirement already satisfied: tqdm in d:\\anaconda\\lib\\site-packages (from nltk>=3.8->textblob) (4.65.0)\n",
            "Requirement already satisfied: colorama in d:\\anaconda\\lib\\site-packages (from click->nltk>=3.8->textblob) (0.4.6)\n",
            "Requirement already satisfied: google in d:\\anaconda\\lib\\site-packages (3.0.0)\n",
            "Requirement already satisfied: beautifulsoup4 in d:\\anaconda\\lib\\site-packages (from google) (4.12.2)\n",
            "Requirement already satisfied: soupsieve>1.2 in d:\\anaconda\\lib\\site-packages (from beautifulsoup4->google) (2.5)\n",
            "Requirement already satisfied: emoji in d:\\anaconda\\lib\\site-packages (2.11.0)\n"
          ]
        }
      ],
      "source": [
        "!pip install pandas\n",
        "!pip install textblob\n",
        "!pip install google\n",
        "!pip install emoji"
      ]
    },
    {
      "cell_type": "code",
      "execution_count": 2,
      "metadata": {
        "id": "ofyMeHPBVQ3m"
      },
      "outputs": [],
      "source": [
        "import pandas as pd\n",
        "from textblob import TextBlob\n",
        "import seaborn as sns\n",
        "import matplotlib.pyplot as plt\n",
        "import re\n",
        "from collections import Counter"
      ]
    },
    {
      "cell_type": "markdown",
      "metadata": {},
      "source": [
        "PARA data"
      ]
    },
    {
      "cell_type": "code",
      "execution_count": 26,
      "metadata": {
        "colab": {
          "base_uri": "https://localhost:8080/"
        },
        "id": "vROtuU8kVTHE",
        "outputId": "1a1b46f9-db22-4e10-c93c-202ea5d81fc7"
      },
      "outputs": [
        {
          "name": "stdout",
          "output_type": "stream",
          "text": [
            "(2058, 35)\n"
          ]
        },
        {
          "data": {
            "text/html": [
              "<div>\n",
              "<style scoped>\n",
              "    .dataframe tbody tr th:only-of-type {\n",
              "        vertical-align: middle;\n",
              "    }\n",
              "\n",
              "    .dataframe tbody tr th {\n",
              "        vertical-align: top;\n",
              "    }\n",
              "\n",
              "    .dataframe thead th {\n",
              "        text-align: right;\n",
              "    }\n",
              "</style>\n",
              "<table border=\"1\" class=\"dataframe\">\n",
              "  <thead>\n",
              "    <tr style=\"text-align: right;\">\n",
              "      <th></th>\n",
              "      <th>id</th>\n",
              "      <th>created_at</th>\n",
              "      <th>text</th>\n",
              "      <th>likes</th>\n",
              "      <th>quotes</th>\n",
              "      <th>replies</th>\n",
              "      <th>retweets</th>\n",
              "      <th>brand</th>\n",
              "      <th>followers</th>\n",
              "      <th>following</th>\n",
              "      <th>...</th>\n",
              "      <th>Tactile_Emoticon</th>\n",
              "      <th>Bodily_Emoticon</th>\n",
              "      <th>Nonbodily_Emoticon</th>\n",
              "      <th>Tactile_Emoji</th>\n",
              "      <th>Bodily_Emoji</th>\n",
              "      <th>Nonbodily_Emoji</th>\n",
              "      <th>Emoji_Count</th>\n",
              "      <th>Emoji_Index</th>\n",
              "      <th>Emoticon_Index</th>\n",
              "      <th>TPL_Index</th>\n",
              "    </tr>\n",
              "  </thead>\n",
              "  <tbody>\n",
              "    <tr>\n",
              "      <th>0</th>\n",
              "      <td>1</td>\n",
              "      <td>2020-01-01 00:10:14</td>\n",
              "      <td>The #TueYearsEve $20 gift card giveaway is off...</td>\n",
              "      <td>862</td>\n",
              "      <td>23</td>\n",
              "      <td>362</td>\n",
              "      <td>105</td>\n",
              "      <td>T-Mobile</td>\n",
              "      <td>1488892</td>\n",
              "      <td>12594</td>\n",
              "      <td>...</td>\n",
              "      <td>0</td>\n",
              "      <td>0</td>\n",
              "      <td>0</td>\n",
              "      <td>0.0</td>\n",
              "      <td>1.0</td>\n",
              "      <td>1.0</td>\n",
              "      <td>2.0</td>\n",
              "      <td>2.0</td>\n",
              "      <td>0</td>\n",
              "      <td>2.0</td>\n",
              "    </tr>\n",
              "    <tr>\n",
              "      <th>1</th>\n",
              "      <td>2</td>\n",
              "      <td>2019-12-31 21:00:04</td>\n",
              "      <td>If you could have 2020 of something, it would be:</td>\n",
              "      <td>517</td>\n",
              "      <td>15</td>\n",
              "      <td>269</td>\n",
              "      <td>92</td>\n",
              "      <td>T-Mobile</td>\n",
              "      <td>1488892</td>\n",
              "      <td>12594</td>\n",
              "      <td>...</td>\n",
              "      <td>0</td>\n",
              "      <td>0</td>\n",
              "      <td>0</td>\n",
              "      <td>0.0</td>\n",
              "      <td>0.0</td>\n",
              "      <td>0.0</td>\n",
              "      <td>0.0</td>\n",
              "      <td>0.0</td>\n",
              "      <td>0</td>\n",
              "      <td>1.0</td>\n",
              "    </tr>\n",
              "    <tr>\n",
              "      <th>2</th>\n",
              "      <td>3</td>\n",
              "      <td>2019-12-31 20:00:00</td>\n",
              "      <td>New year, new you, new $20 gift card🤑 \\nReply ...</td>\n",
              "      <td>7502</td>\n",
              "      <td>2368</td>\n",
              "      <td>37780</td>\n",
              "      <td>3233</td>\n",
              "      <td>T-Mobile</td>\n",
              "      <td>1488892</td>\n",
              "      <td>12594</td>\n",
              "      <td>...</td>\n",
              "      <td>0</td>\n",
              "      <td>0</td>\n",
              "      <td>0</td>\n",
              "      <td>0.0</td>\n",
              "      <td>1.0</td>\n",
              "      <td>0.0</td>\n",
              "      <td>1.0</td>\n",
              "      <td>1.0</td>\n",
              "      <td>0</td>\n",
              "      <td>1.0</td>\n",
              "    </tr>\n",
              "    <tr>\n",
              "      <th>3</th>\n",
              "      <td>4</td>\n",
              "      <td>2019-12-31 18:00:00</td>\n",
              "      <td>Start the new year off on the right… vacation ...</td>\n",
              "      <td>508</td>\n",
              "      <td>6</td>\n",
              "      <td>39</td>\n",
              "      <td>101</td>\n",
              "      <td>T-Mobile</td>\n",
              "      <td>1488892</td>\n",
              "      <td>12594</td>\n",
              "      <td>...</td>\n",
              "      <td>0</td>\n",
              "      <td>0</td>\n",
              "      <td>0</td>\n",
              "      <td>0.0</td>\n",
              "      <td>0.0</td>\n",
              "      <td>3.0</td>\n",
              "      <td>3.0</td>\n",
              "      <td>3.0</td>\n",
              "      <td>0</td>\n",
              "      <td>4.0</td>\n",
              "    </tr>\n",
              "    <tr>\n",
              "      <th>4</th>\n",
              "      <td>5</td>\n",
              "      <td>2019-12-31 11:00:00</td>\n",
              "      <td>New York drops the ball. We drop money 🤑\\n\\nKi...</td>\n",
              "      <td>6838</td>\n",
              "      <td>218</td>\n",
              "      <td>1225</td>\n",
              "      <td>2129</td>\n",
              "      <td>T-Mobile</td>\n",
              "      <td>1488892</td>\n",
              "      <td>12594</td>\n",
              "      <td>...</td>\n",
              "      <td>0</td>\n",
              "      <td>0</td>\n",
              "      <td>0</td>\n",
              "      <td>0.0</td>\n",
              "      <td>1.0</td>\n",
              "      <td>1.0</td>\n",
              "      <td>2.0</td>\n",
              "      <td>2.0</td>\n",
              "      <td>0</td>\n",
              "      <td>2.0</td>\n",
              "    </tr>\n",
              "  </tbody>\n",
              "</table>\n",
              "<p>5 rows × 35 columns</p>\n",
              "</div>"
            ],
            "text/plain": [
              "  id           created_at                                               text  \\\n",
              "0  1  2020-01-01 00:10:14  The #TueYearsEve $20 gift card giveaway is off...   \n",
              "1  2  2019-12-31 21:00:04  If you could have 2020 of something, it would be:   \n",
              "2  3  2019-12-31 20:00:00  New year, new you, new $20 gift card🤑 \\nReply ...   \n",
              "3  4  2019-12-31 18:00:00  Start the new year off on the right… vacation ...   \n",
              "4  5  2019-12-31 11:00:00  New York drops the ball. We drop money 🤑\\n\\nKi...   \n",
              "\n",
              "  likes quotes replies retweets     brand followers following  ...  \\\n",
              "0   862     23     362      105  T-Mobile   1488892     12594  ...   \n",
              "1   517     15     269       92  T-Mobile   1488892     12594  ...   \n",
              "2  7502   2368   37780     3233  T-Mobile   1488892     12594  ...   \n",
              "3   508      6      39      101  T-Mobile   1488892     12594  ...   \n",
              "4  6838    218    1225     2129  T-Mobile   1488892     12594  ...   \n",
              "\n",
              "  Tactile_Emoticon Bodily_Emoticon  Nonbodily_Emoticon  Tactile_Emoji  \\\n",
              "0                0               0                   0            0.0   \n",
              "1                0               0                   0            0.0   \n",
              "2                0               0                   0            0.0   \n",
              "3                0               0                   0            0.0   \n",
              "4                0               0                   0            0.0   \n",
              "\n",
              "   Bodily_Emoji  Nonbodily_Emoji  Emoji_Count  Emoji_Index  Emoticon_Index  \\\n",
              "0           1.0              1.0          2.0          2.0               0   \n",
              "1           0.0              0.0          0.0          0.0               0   \n",
              "2           1.0              0.0          1.0          1.0               0   \n",
              "3           0.0              3.0          3.0          3.0               0   \n",
              "4           1.0              1.0          2.0          2.0               0   \n",
              "\n",
              "   TPL_Index  \n",
              "0        2.0  \n",
              "1        1.0  \n",
              "2        1.0  \n",
              "3        4.0  \n",
              "4        2.0  \n",
              "\n",
              "[5 rows x 35 columns]"
            ]
          },
          "execution_count": 26,
          "metadata": {},
          "output_type": "execute_result"
        }
      ],
      "source": [
        "para = pd.read_csv('PARA2.csv')\n",
        "para = para.drop(0)\n",
        "para = para.reset_index(drop=True)\n",
        "# Dictionary mapping old column names to new column names\n",
        "new_column_names = {\n",
        "    'Unnamed: 0': 'id',\n",
        "    'Unnamed: 1': 'created_at',\n",
        "    'Unnamed: 2': 'text',\n",
        "    'Unnamed: 3': 'likes',\n",
        "    'Unnamed: 4': 'quotes',\n",
        "    'Unnamed: 5': 'replies',\n",
        "    'Unnamed: 6': 'retweets',\n",
        "    'Unnamed: 7': 'brand',\n",
        "    'Unnamed: 8': 'followers',\n",
        "    'Unnamed: 9': 'following',\n",
        "}\n",
        "\n",
        "para = para.rename(columns=new_column_names)\n",
        "print (para.shape)\n",
        "para.head()\n"
      ]
    },
    {
      "cell_type": "markdown",
      "metadata": {
        "id": "RZp5HhyK1ha0"
      },
      "source": [
        "## Point 1"
      ]
    },
    {
      "cell_type": "code",
      "execution_count": 5,
      "metadata": {
        "colab": {
          "base_uri": "https://localhost:8080/"
        },
        "id": "RaMzK6-Sw-Pu",
        "outputId": "2cf23962-6190-4e0b-a898-f171562278ca"
      },
      "outputs": [
        {
          "data": {
            "text/html": [
              "<div>\n",
              "<style scoped>\n",
              "    .dataframe tbody tr th:only-of-type {\n",
              "        vertical-align: middle;\n",
              "    }\n",
              "\n",
              "    .dataframe tbody tr th {\n",
              "        vertical-align: top;\n",
              "    }\n",
              "\n",
              "    .dataframe thead th {\n",
              "        text-align: right;\n",
              "    }\n",
              "</style>\n",
              "<table border=\"1\" class=\"dataframe\">\n",
              "  <thead>\n",
              "    <tr style=\"text-align: right;\">\n",
              "      <th></th>\n",
              "      <th>id</th>\n",
              "      <th>created_at</th>\n",
              "      <th>text</th>\n",
              "      <th>likes</th>\n",
              "      <th>quotes</th>\n",
              "      <th>replies</th>\n",
              "      <th>retweets</th>\n",
              "      <th>brand</th>\n",
              "      <th>followers</th>\n",
              "      <th>following</th>\n",
              "      <th>...</th>\n",
              "      <th>Nonbodily_Emoticon</th>\n",
              "      <th>Tactile_Emoji</th>\n",
              "      <th>Bodily_Emoji</th>\n",
              "      <th>Nonbodily_Emoji</th>\n",
              "      <th>Emoji_Count</th>\n",
              "      <th>Emoji_Index</th>\n",
              "      <th>Emoticon_Index</th>\n",
              "      <th>TPL_Index</th>\n",
              "      <th>polarity</th>\n",
              "      <th>subjectivity</th>\n",
              "    </tr>\n",
              "  </thead>\n",
              "  <tbody>\n",
              "    <tr>\n",
              "      <th>0</th>\n",
              "      <td>1</td>\n",
              "      <td>2020-01-01 00:10:14</td>\n",
              "      <td>The #TueYearsEve $20 gift card giveaway is off...</td>\n",
              "      <td>862</td>\n",
              "      <td>23</td>\n",
              "      <td>362</td>\n",
              "      <td>105</td>\n",
              "      <td>T-Mobile</td>\n",
              "      <td>1488892</td>\n",
              "      <td>12594</td>\n",
              "      <td>...</td>\n",
              "      <td>0</td>\n",
              "      <td>0.0</td>\n",
              "      <td>1.0</td>\n",
              "      <td>1.0</td>\n",
              "      <td>2.0</td>\n",
              "      <td>2.0</td>\n",
              "      <td>0</td>\n",
              "      <td>2.0</td>\n",
              "      <td>0.480000</td>\n",
              "      <td>0.470000</td>\n",
              "    </tr>\n",
              "    <tr>\n",
              "      <th>1</th>\n",
              "      <td>2</td>\n",
              "      <td>2019-12-31 21:00:04</td>\n",
              "      <td>If you could have 2020 of something, it would be:</td>\n",
              "      <td>517</td>\n",
              "      <td>15</td>\n",
              "      <td>269</td>\n",
              "      <td>92</td>\n",
              "      <td>T-Mobile</td>\n",
              "      <td>1488892</td>\n",
              "      <td>12594</td>\n",
              "      <td>...</td>\n",
              "      <td>0</td>\n",
              "      <td>0.0</td>\n",
              "      <td>0.0</td>\n",
              "      <td>0.0</td>\n",
              "      <td>0.0</td>\n",
              "      <td>0.0</td>\n",
              "      <td>0</td>\n",
              "      <td>1.0</td>\n",
              "      <td>0.000000</td>\n",
              "      <td>0.000000</td>\n",
              "    </tr>\n",
              "    <tr>\n",
              "      <th>2</th>\n",
              "      <td>3</td>\n",
              "      <td>2019-12-31 20:00:00</td>\n",
              "      <td>New year, new you, new $20 gift card🤑 \\nReply ...</td>\n",
              "      <td>7502</td>\n",
              "      <td>2368</td>\n",
              "      <td>37780</td>\n",
              "      <td>3233</td>\n",
              "      <td>T-Mobile</td>\n",
              "      <td>1488892</td>\n",
              "      <td>12594</td>\n",
              "      <td>...</td>\n",
              "      <td>0</td>\n",
              "      <td>0.0</td>\n",
              "      <td>1.0</td>\n",
              "      <td>0.0</td>\n",
              "      <td>1.0</td>\n",
              "      <td>1.0</td>\n",
              "      <td>0</td>\n",
              "      <td>1.0</td>\n",
              "      <td>0.302273</td>\n",
              "      <td>0.440909</td>\n",
              "    </tr>\n",
              "    <tr>\n",
              "      <th>3</th>\n",
              "      <td>4</td>\n",
              "      <td>2019-12-31 18:00:00</td>\n",
              "      <td>Start the new year off on the right… vacation ...</td>\n",
              "      <td>508</td>\n",
              "      <td>6</td>\n",
              "      <td>39</td>\n",
              "      <td>101</td>\n",
              "      <td>T-Mobile</td>\n",
              "      <td>1488892</td>\n",
              "      <td>12594</td>\n",
              "      <td>...</td>\n",
              "      <td>0</td>\n",
              "      <td>0.0</td>\n",
              "      <td>0.0</td>\n",
              "      <td>3.0</td>\n",
              "      <td>3.0</td>\n",
              "      <td>3.0</td>\n",
              "      <td>0</td>\n",
              "      <td>4.0</td>\n",
              "      <td>0.068182</td>\n",
              "      <td>0.227273</td>\n",
              "    </tr>\n",
              "    <tr>\n",
              "      <th>4</th>\n",
              "      <td>5</td>\n",
              "      <td>2019-12-31 11:00:00</td>\n",
              "      <td>New York drops the ball. We drop money 🤑\\n\\nKi...</td>\n",
              "      <td>6838</td>\n",
              "      <td>218</td>\n",
              "      <td>1225</td>\n",
              "      <td>2129</td>\n",
              "      <td>T-Mobile</td>\n",
              "      <td>1488892</td>\n",
              "      <td>12594</td>\n",
              "      <td>...</td>\n",
              "      <td>0</td>\n",
              "      <td>0.0</td>\n",
              "      <td>1.0</td>\n",
              "      <td>1.0</td>\n",
              "      <td>2.0</td>\n",
              "      <td>2.0</td>\n",
              "      <td>0</td>\n",
              "      <td>2.0</td>\n",
              "      <td>0.312121</td>\n",
              "      <td>0.284848</td>\n",
              "    </tr>\n",
              "  </tbody>\n",
              "</table>\n",
              "<p>5 rows × 37 columns</p>\n",
              "</div>"
            ],
            "text/plain": [
              "  id           created_at                                               text  \\\n",
              "0  1  2020-01-01 00:10:14  The #TueYearsEve $20 gift card giveaway is off...   \n",
              "1  2  2019-12-31 21:00:04  If you could have 2020 of something, it would be:   \n",
              "2  3  2019-12-31 20:00:00  New year, new you, new $20 gift card🤑 \\nReply ...   \n",
              "3  4  2019-12-31 18:00:00  Start the new year off on the right… vacation ...   \n",
              "4  5  2019-12-31 11:00:00  New York drops the ball. We drop money 🤑\\n\\nKi...   \n",
              "\n",
              "  likes quotes replies retweets     brand followers following  ...  \\\n",
              "0   862     23     362      105  T-Mobile   1488892     12594  ...   \n",
              "1   517     15     269       92  T-Mobile   1488892     12594  ...   \n",
              "2  7502   2368   37780     3233  T-Mobile   1488892     12594  ...   \n",
              "3   508      6      39      101  T-Mobile   1488892     12594  ...   \n",
              "4  6838    218    1225     2129  T-Mobile   1488892     12594  ...   \n",
              "\n",
              "  Nonbodily_Emoticon Tactile_Emoji  Bodily_Emoji  Nonbodily_Emoji  \\\n",
              "0                  0           0.0           1.0              1.0   \n",
              "1                  0           0.0           0.0              0.0   \n",
              "2                  0           0.0           1.0              0.0   \n",
              "3                  0           0.0           0.0              3.0   \n",
              "4                  0           0.0           1.0              1.0   \n",
              "\n",
              "   Emoji_Count  Emoji_Index  Emoticon_Index  TPL_Index  polarity  subjectivity  \n",
              "0          2.0          2.0               0        2.0  0.480000      0.470000  \n",
              "1          0.0          0.0               0        1.0  0.000000      0.000000  \n",
              "2          1.0          1.0               0        1.0  0.302273      0.440909  \n",
              "3          3.0          3.0               0        4.0  0.068182      0.227273  \n",
              "4          2.0          2.0               0        2.0  0.312121      0.284848  \n",
              "\n",
              "[5 rows x 37 columns]"
            ]
          },
          "execution_count": 5,
          "metadata": {},
          "output_type": "execute_result"
        }
      ],
      "source": [
        "# Function to calculate sentiment scores using TextBlob\n",
        "def sentiment_scores(text):\n",
        "    \"\"\"\n",
        "    Calculate sentiment polarity and subjectivity using TextBlob.\n",
        "    \"\"\"\n",
        "    analysis = TextBlob(text)\n",
        "    return analysis.sentiment.polarity, analysis.sentiment.subjectivity\n",
        "\n",
        "para['polarity'], para['subjectivity'] = zip(*para['text'].apply(sentiment_scores))\n",
        "\n",
        "# Display the updated dataframe with sentiment scores\n",
        "para.head()"
      ]
    },
    {
      "cell_type": "markdown",
      "metadata": {
        "id": "StrpAzdIXgbr"
      },
      "source": [
        "The results can be interpreted by analyzing the values in the columns, where higher values of subjectivity indicate more subjective text, and values of polarity closer to 1 indicate more positive sentiment, while values closer to -1 indicate more negative sentiment. In TextBlob library, the polarity score ranges from -1 to +1, where -1 means very negative sentiment, 0 means neutral sentiment, and +1 means very positive sentiment. Similarly, subjectivity score also ranges from 0 to 1, where 0 means the text is very objective or factual, and 1 means the text is very subjective or opinionated."
      ]
    },
    {
      "cell_type": "code",
      "execution_count": 7,
      "metadata": {
        "colab": {
          "base_uri": "https://localhost:8080/",
          "height": 175
        },
        "id": "HTkQK6A2Xtjn",
        "outputId": "6d37817e-aa33-475c-d4f4-77dcd3add055"
      },
      "outputs": [
        {
          "data": {
            "text/html": [
              "<div>\n",
              "<style scoped>\n",
              "    .dataframe tbody tr th:only-of-type {\n",
              "        vertical-align: middle;\n",
              "    }\n",
              "\n",
              "    .dataframe tbody tr th {\n",
              "        vertical-align: top;\n",
              "    }\n",
              "\n",
              "    .dataframe thead th {\n",
              "        text-align: right;\n",
              "    }\n",
              "</style>\n",
              "<table border=\"1\" class=\"dataframe\">\n",
              "  <thead>\n",
              "    <tr style=\"text-align: right;\">\n",
              "      <th></th>\n",
              "      <th>brand</th>\n",
              "      <th>polarity</th>\n",
              "      <th>subjectivity</th>\n",
              "    </tr>\n",
              "  </thead>\n",
              "  <tbody>\n",
              "    <tr>\n",
              "      <th>0</th>\n",
              "      <td>Coca-Cola</td>\n",
              "      <td>0.229149</td>\n",
              "      <td>0.396011</td>\n",
              "    </tr>\n",
              "    <tr>\n",
              "      <th>1</th>\n",
              "      <td>T-Mobile</td>\n",
              "      <td>0.258456</td>\n",
              "      <td>0.468700</td>\n",
              "    </tr>\n",
              "    <tr>\n",
              "      <th>2</th>\n",
              "      <td>Target</td>\n",
              "      <td>0.151291</td>\n",
              "      <td>0.388676</td>\n",
              "    </tr>\n",
              "    <tr>\n",
              "      <th>3</th>\n",
              "      <td>americanair</td>\n",
              "      <td>0.245873</td>\n",
              "      <td>0.402084</td>\n",
              "    </tr>\n",
              "  </tbody>\n",
              "</table>\n",
              "</div>"
            ],
            "text/plain": [
              "         brand  polarity  subjectivity\n",
              "0    Coca-Cola  0.229149      0.396011\n",
              "1     T-Mobile  0.258456      0.468700\n",
              "2       Target  0.151291      0.388676\n",
              "3  americanair  0.245873      0.402084"
            ]
          },
          "execution_count": 7,
          "metadata": {},
          "output_type": "execute_result"
        }
      ],
      "source": [
        "# Group by brand and calculate the mean polarity and subjectivity\n",
        "brand_sentiment = para.groupby('brand').agg({'polarity':'mean', 'subjectivity':'mean'}).reset_index()\n",
        "\n",
        "# Display the sentiment scores grouped by brand\n",
        "brand_sentiment"
      ]
    },
    {
      "cell_type": "code",
      "execution_count": 8,
      "metadata": {
        "colab": {
          "base_uri": "https://localhost:8080/",
          "height": 333
        },
        "id": "Dy-9z67FxHpS",
        "outputId": "8cd91dca-8d2e-4345-c10a-45e770ed2eca"
      },
      "outputs": [
        {
          "data": {
            "image/png": "[encoded data removed]",
            "text/plain": [
              "<Figure size 500x300 with 1 Axes>"
            ]
          },
          "metadata": {},
          "output_type": "display_data"
        }
      ],
      "source": [
        "# Now let's create a bar plot\n",
        "plt.figure(figsize=(5, 3))\n",
        "sns.barplot(x='brand', y='subjectivity', data=brand_sentiment, color='pink', label='Average Subjectivity')\n",
        "sns.barplot(x='brand', y='polarity', data= brand_sentiment, color='purple', label='Average Polarity')\n",
        "plt.title('Average Sentiment Polarity and Subjectivity for Each Brand')\n",
        "plt.legend()\n",
        "plt.show()"
      ]
    },
    {
      "cell_type": "markdown",
      "metadata": {
        "id": "bJEOThBN0fdT"
      },
      "source": [
        "The visualizations above represent the average sentiment polarity and subjectivity for each brand (Coca-Cola, T-Mobile, target, and americanair) based on their Twitter communications.\n",
        "- Average polarity shows how positive or negative the average sentiment of each brand's tweets is. A higher score indicates more positive sentiment, while a lower score indicates more negative sentiment.\n",
        "- While average subjectivity illustrates the level of subjectivity in the tweets of each brand. A higher score indicates more subjective (opinionated or emotional) content, while a lower score suggests more objective (factual) content."
      ]
    },
    {
      "cell_type": "markdown",
      "metadata": {
        "id": "TPb4SVSs1nJx"
      },
      "source": [
        "## Point 2"
      ]
    },
    {
      "cell_type": "markdown",
      "metadata": {
        "id": "sHRZ5GyIU2os"
      },
      "source": [
        "### EMOJIS"
      ]
    },
    {
      "cell_type": "code",
      "execution_count": 10,
      "metadata": {},
      "outputs": [
        {
          "data": {
            "text/html": [
              "<div>\n",
              "<style scoped>\n",
              "    .dataframe tbody tr th:only-of-type {\n",
              "        vertical-align: middle;\n",
              "    }\n",
              "\n",
              "    .dataframe tbody tr th {\n",
              "        vertical-align: top;\n",
              "    }\n",
              "\n",
              "    .dataframe thead th {\n",
              "        text-align: right;\n",
              "    }\n",
              "</style>\n",
              "<table border=\"1\" class=\"dataframe\">\n",
              "  <thead>\n",
              "    <tr style=\"text-align: right;\">\n",
              "      <th></th>\n",
              "      <th>brand</th>\n",
              "      <th>Emoji_Count</th>\n",
              "    </tr>\n",
              "  </thead>\n",
              "  <tbody>\n",
              "    <tr>\n",
              "      <th>0</th>\n",
              "      <td>Coca-Cola</td>\n",
              "      <td>0.626263</td>\n",
              "    </tr>\n",
              "    <tr>\n",
              "      <th>1</th>\n",
              "      <td>T-Mobile</td>\n",
              "      <td>0.862000</td>\n",
              "    </tr>\n",
              "    <tr>\n",
              "      <th>2</th>\n",
              "      <td>Target</td>\n",
              "      <td>0.423077</td>\n",
              "    </tr>\n",
              "    <tr>\n",
              "      <th>3</th>\n",
              "      <td>americanair</td>\n",
              "      <td>0.300623</td>\n",
              "    </tr>\n",
              "  </tbody>\n",
              "</table>\n",
              "</div>"
            ],
            "text/plain": [
              "         brand  Emoji_Count\n",
              "0    Coca-Cola     0.626263\n",
              "1     T-Mobile     0.862000\n",
              "2       Target     0.423077\n",
              "3  americanair     0.300623"
            ]
          },
          "execution_count": 10,
          "metadata": {},
          "output_type": "execute_result"
        }
      ],
      "source": [
        "emoji_by_brand = para.groupby('brand').agg({'Emoji_Count':'mean'})\\\n",
        "    .reset_index() \n",
        "emoji_by_brand.head()"
      ]
    },
    {
      "cell_type": "code",
      "execution_count": 24,
      "metadata": {},
      "outputs": [
        {
          "data": {
            "image/png": "[encoded data removed]",
            "text/plain": [
              "<Figure size 500x250 with 1 Axes>"
            ]
          },
          "metadata": {},
          "output_type": "display_data"
        }
      ],
      "source": [
        "# Plot Emoji_Count by brand\n",
        "plt.figure(figsize=(5, 2.5))\n",
        "sns.barplot(x='brand', y= 'Emoji_Count', data=emoji_by_brand, palette='plasma')\n",
        "plt.title('Average Number of Emojis by Brand (per Tweet)')\n",
        "plt.ylabel('Number of Emojis')\n",
        "plt.xticks(rotation=45)\n",
        "plt.show()"
      ]
    },
    {
      "cell_type": "markdown",
      "metadata": {
        "id": "y5YRSMpk5ard"
      },
      "source": [
        "This bar chart shows the average number of emojis used in each tweet by brand. T-Mobile leads with the highest average, which aligns with their top position in total emoji count and suggests a consistent use of emojis in their communication. Coca-Cola follows but with a lower average, indicating emojis are a regular but less dominant part of their Twitter strategy. Target and American Airlines have the lowest averages, which could mean they use emojis more sparingly, possibly to maintain a more professional tone."
      ]
    },
    {
      "cell_type": "code",
      "execution_count": 15,
      "metadata": {},
      "outputs": [
        {
          "data": {
            "image/png": "[encoded data removed]",
            "text/plain": [
              "<Figure size 600x300 with 1 Axes>"
            ]
          },
          "metadata": {},
          "output_type": "display_data"
        }
      ],
      "source": [
        "import matplotlib.pyplot as plt\n",
        "import seaborn as sns\n",
        "\n",
        "# Convert relevant columns to the appropriate data types\n",
        "para['Emoji_Count'] = pd.to_numeric(para['Emoji_Count'])\n",
        "\n",
        "# Group by brand and sum up the Emoji_Count\n",
        "emoji_count_by_brand = para.groupby('brand')['Emoji_Count'].sum().sort_values(ascending=False)\n",
        "\n",
        "# Plotting\n",
        "plt.figure(figsize=(6, 3))\n",
        "sns.barplot(x=emoji_count_by_brand.index, y=emoji_count_by_brand.values, palette='viridis')\n",
        "plt.xticks(rotation=45)\n",
        "plt.xlabel('Brand')\n",
        "plt.ylabel('Total Emoji Count')\n",
        "plt.title('Total Number of Emojis Used by Each Brand')\n",
        "plt.show()\n",
        "\n",
        "\n"
      ]
    },
    {
      "cell_type": "markdown",
      "metadata": {},
      "source": [
        "This bar chart presents the aggregate number of emojis used by each brand. T-Mobile stands out with the highest usage, indicating a possibly more casual or expressive communication style. Coca-Cola, Target, and American Airlines show lower but relatively comparable levels of emoji use, suggesting a more conservative approach to using emojis in their Twitter communications."
      ]
    },
    {
      "cell_type": "code",
      "execution_count": 21,
      "metadata": {},
      "outputs": [
        {
          "data": {
            "text/plain": [
              "<Figure size 600x300 with 0 Axes>"
            ]
          },
          "metadata": {},
          "output_type": "display_data"
        },
        {
          "data": {
            "image/png": "[encoded data removed]",
            "text/plain": [
              "<Figure size 600x300 with 1 Axes>"
            ]
          },
          "metadata": {},
          "output_type": "display_data"
        }
      ],
      "source": [
        "# Convert relevant columns to numeric for emoji types\n",
        "emoji_types_columns = ['Tactile_Emoji', 'Bodily_Emoji', 'Nonbodily_Emoji']\n",
        "para[emoji_types_columns] = para[emoji_types_columns].apply(pd.to_numeric, errors='coerce')\n",
        "\n",
        "# Group by brand and sum up each type of emoji\n",
        "emoji_types_by_brand = para.groupby('brand')[emoji_types_columns].sum()\n",
        "\n",
        "# Plotting the stacked bar chart\n",
        "plt.figure(figsize=(6, 3))\n",
        "emoji_types_by_brand.plot(kind='bar', stacked=True, colormap='viridis', figsize=(6, 3))\n",
        "plt.xlabel('Brand')\n",
        "plt.ylabel('Emoji Counts')\n",
        "plt.title('Distribution of Different Types of Emojis Used by Each Brand')\n",
        "plt.legend(title='Emoji Type')\n",
        "plt.xticks(rotation=45)\n",
        "plt.show()\n"
      ]
    },
    {
      "cell_type": "markdown",
      "metadata": {},
      "source": [
        "The stacked bar chart breaks down emoji usage into three categories: Tactile, Bodily, and Nonbodily. It provides insight into the diversity of emoji types used by each brand. Coca-Cola and T-Mobile appear to have a more balanced use of different emoji types, with a notable preference for Nonbodily Emojis. This might indicate a variety in expression, aiming to connect with their audience in multiple ways. Target and American Airlines show less variety in their emoji use, which could reflect a more focused brand messaging strategy."
      ]
    },
    {
      "cell_type": "markdown",
      "metadata": {
        "id": "DI8aNCcWU77X"
      },
      "source": [
        "### EMOTICONS"
      ]
    },
    {
      "cell_type": "code",
      "execution_count": 31,
      "metadata": {},
      "outputs": [],
      "source": [
        "from collections import Counter\n",
        "\n",
        "# Define the list of emoticons as provided\n",
        "emoticons_list = [\n",
        "    \":)\", \":-)\", \":]\", \":-]\", \":3\", \":c)\", \":>\", \"=]\", \"8)\", \"=)\", \":}\", \":^)\", \":っ)\",\n",
        "    \":(\", \":-(\", \":[\", \":-[\", \":{\", \":-||\", \":((\", \":っC\", \":'(\", \":'-(\", \"QQ\", \"T.T\", \";(\",\n",
        "    \";-)\", \";)\", \"*-)\", \"*)\", \";-]\", \";]\", \";^)\", \":-,\", \";D\",\n",
        "    \"XD\", \"xD\", \"X-D\", \"x-D\", \"XD\", \"xD\", \"=D\", \"=3\", \"B^D\",\n",
        "    \":-*\", \":*\", \":x\", \"*-:\", \":-*\", \":^*\", \"💋\",\n",
        "    \":P\", \":-P\", \":p\", \":-p\", \":-Þ\", \":Þ\", \":-b\", \":b\",\n",
        "    \":O\", \":-O\", \":o\", \":-o\", \">:O\", \":-X\", \":X\", \":-#\", \":#\",\n",
        "    \":'‑)\", \":'‑]\", \":'‑)\", \":')\",\n",
        "    \":/\", \":-/\", \":.\", \">:/\", \":-.\", \":\\\\\", \":-\\\\\", \":L\", \"=/\", \"=\\\\\", \":S\", \">.<\",\n",
        "    \">:]\", \":-]\", \":>\", \":->\", \">:(\", \">:-(\", \">:)\", \"(:<\",\n",
        "    \"D:<\", \"D:\", \"D8\", \"D;\", \"D=\", \"DX\", \"v.v\", \"D-':\",\n",
        "    \">:P\", \"X-P\", \"x-p\", \">:p\", \":-p\", \"=p\", \":‑Þ\", \":‑þ\", \":‑b\", \":Þ\", \":þ\",\n",
        "    \"O:)\", \"0:3\", \"0:)\", \"0;^)\",\n",
        "    \">:)\", \">:D\", \">:-D\", \">=D\",\n",
        "    \"}:)\", \"}:-)\", \"3:)\", \"3:-)\",\n",
        "    \"|;-)\", \"|-O\",\n",
        "    \"#‑)\", \"%‑)\", \"%)\",\n",
        "    \":-&\", \":&\",\n",
        "    \"{:‑)\", \"{;‑)\",\n",
        "    \";‑###..\", \">:‑###..\",\n",
        "    \",:-)\", \",:-]\",\n",
        "    \"^_^\", \"^-^\", \"^o^\", \"^O^\", \"（＾ｖ＾）\", \"（＾＿＾）\", \"(^_^)/\", \"(^.^)/\", \"(^-^)/\", \"（*＾＾*)\", \"（＾－＾）\", \"（＾-＾）\", \"＼(^o^)／\", \"＼（＾＿＾）／\", \"＼(^-^)／\",\n",
        "    \"-_-\", \"-__-\", \"-___-\",\n",
        "    \"¬_¬\", \"¬__¬\", \"¬___¬\",\n",
        "    \"´_ゝ`\", \"ʕ•ᴥ•ʔ\", \"(｡♥‿♥｡)\", \"(♥_♥)\", \"ლ(╹◡╹ლ)\", \"(❁´◡`❁)\", \"(人◕ω◕)\", \"(✿◠‿◠)\", \"ʘ‿ʘ\", \"ಠ_ಠ\", \"ಠ‿ಠ\", \"ಠ⌣ಠ\", \"(ಠ‿ಠ)\", \"(ಠ⌣ಠ)\", \"(¬‿¬)\", \"(｡◕‿◕｡)\", \"(๑>ᴗ<๑)\", \"（*´▽｀*）\", \"(*≧ω≦)\", \"(─‿─)\", \"(•ω•)\", \"(•◡•)/\", \"(⊙ω⊙)\", \"(⊙ヮ⊙)\", \"（＾ｖ＾）\"\n",
        "]"
      ]
    },
    {
      "cell_type": "code",
      "execution_count": 35,
      "metadata": {},
      "outputs": [
        {
          "data": {
            "text/plain": [
              "Counter({':/': 1308,\n",
              "         ':\\\\': 31,\n",
              "         'xD': 8,\n",
              "         'XD': 8,\n",
              "         'QQ': 4,\n",
              "         ':3': 4,\n",
              "         'DX': 2,\n",
              "         'D8': 2,\n",
              "         '=/': 1,\n",
              "         'D:': 1,\n",
              "         '💋': 1})"
            ]
          },
          "execution_count": 35,
          "metadata": {},
          "output_type": "execute_result"
        }
      ],
      "source": [
        "# Function to extract emoticons from text\n",
        "def extract_emoticons(text):\n",
        "    found_emoticons = []\n",
        "    for emoticon in emoticons_list:\n",
        "        found_emoticons.extend(re.findall(re.escape(emoticon), text))\n",
        "    return found_emoticons\n",
        "\n",
        "# Applying the function to the 'text' column of 'data_cleaned' dataframe (assuming it resembles 'tweets_data')\n",
        "para['emoticons_found'] = para['text'].apply(extract_emoticons)\n",
        "\n",
        "# Counting emoticons for each brand\n",
        "emoticon_counts = {}\n",
        "for brand in para['brand'].unique():\n",
        "    brand_emoticons = sum(para[para['brand'] == brand]['emoticons_found'], [])\n",
        "    emoticon_counts[brand] = Counter(brand_emoticons)\n",
        "\n",
        "# Aggregate the counts of each emoticon across all brands\n",
        "total_emoticon_counts = sum(emoticon_counts.values(), Counter())\n",
        "\n",
        "# Displaying the aggregated emoticon counts\n",
        "total_emoticon_counts"
      ]
    },
    {
      "cell_type": "code",
      "execution_count": 49,
      "metadata": {},
      "outputs": [
        {
          "name": "stderr",
          "output_type": "stream",
          "text": [
            "d:\\Anaconda\\Lib\\site-packages\\seaborn\\_oldcore.py:1765: FutureWarning: unique with argument that is not not a Series, Index, ExtensionArray, or np.ndarray is deprecated and will raise in a future version.\n",
            "  order = pd.unique(vector)\n",
            "C:\\Users\\simon\\AppData\\Roaming\\Python\\Python311\\site-packages\\IPython\\core\\pylabtools.py:152: UserWarning: Glyph 128139 (\\N{KISS MARK}) missing from current font.\n",
            "  fig.canvas.print_figure(bytes_io, **kw)\n"
          ]
        },
        {
          "data": {
            "image/png": "[encoded data removed]",
            "text/plain": [
              "<Figure size 500x300 with 1 Axes>"
            ]
          },
          "metadata": {},
          "output_type": "display_data"
        }
      ],
      "source": [
        "para['emoticons_found'] = para['text'].apply(extract_emoticons)\n",
        "\n",
        "emoticon_counts = {}\n",
        "for brand in para['brand'].unique():\n",
        "    brand_emoticons = sum(para[para['brand'] == brand]['emoticons_found'], [])\n",
        "    emoticon_counts[brand] = Counter(brand_emoticons)\n",
        "\n",
        "# Aggregate the counts of each emoticon across all brands\n",
        "total_emoticon_counts = sum(emoticon_counts.values(), Counter())\n",
        "\n",
        "# Creating a bar plot for the aggregated emoticon counts\n",
        "plt.figure(figsize=(5, 3))\n",
        "sns.barplot(x=list(total_emoticon_counts.keys()), y=list(total_emoticon_counts.values()), color = 'purple')\n",
        "plt.title('Total Counts of Emoticon Occurrences Across All Brands')\n",
        "plt.xlabel('Emoticon')\n",
        "plt.ylabel('Count')\n",
        "plt.xticks(rotation=45)\n",
        "plt.yscale('log')\n",
        "plt.show()"
      ]
    },
    {
      "cell_type": "code",
      "execution_count": 50,
      "metadata": {},
      "outputs": [
        {
          "name": "stderr",
          "output_type": "stream",
          "text": [
            "C:\\Users\\simon\\AppData\\Roaming\\Python\\Python311\\site-packages\\IPython\\core\\pylabtools.py:152: UserWarning: Glyph 128139 (\\N{KISS MARK}) missing from current font.\n",
            "  fig.canvas.print_figure(bytes_io, **kw)\n"
          ]
        },
        {
          "data": {
            "image/png": "[encoded data removed]",
            "text/plain": [
              "<Figure size 750x400 with 1 Axes>"
            ]
          },
          "metadata": {},
          "output_type": "display_data"
        }
      ],
      "source": [
        "# Convert the dictionary of Counter objects to a DataFrame\n",
        "emoticon_counts_df = pd.DataFrame.from_dict(emoticon_counts, orient='index').fillna(0)\n",
        "\n",
        "# Prepare data for grouped bar chart\n",
        "emoticon_counts_melted = emoticon_counts_df.reset_index().melt(id_vars='index')\n",
        "emoticon_counts_melted.columns = ['Brand', 'Emoticon', 'Count']\n",
        "\n",
        "# Create a grouped bar chart\n",
        "plt.figure(figsize=(7.5, 4))\n",
        "sns.barplot(x='Emoticon', y='Count', hue='Brand', data=emoticon_counts_melted)\n",
        "plt.title('Comparison of Emoticon Usage Across Brands')\n",
        "plt.xlabel('Emoticon')\n",
        "plt.ylabel('Count')\n",
        "plt.xticks(rotation=45)\n",
        "plt.legend(title='Brand')\n",
        "plt.yscale('log')\n",
        "plt.show()"
      ]
    },
    {
      "cell_type": "markdown",
      "metadata": {
        "id": "LkLoJBdTgxSz"
      },
      "source": [
        "## Point 3"
      ]
    },
    {
      "cell_type": "code",
      "execution_count": null,
      "metadata": {
        "colab": {
          "base_uri": "https://localhost:8080/"
        },
        "id": "g8Qi8BwCg18S",
        "outputId": "253402df-1151-401c-917d-40bbf4da5cec"
      },
      "outputs": [],
      "source": [
        "!pip install transformers"
      ]
    },
    {
      "cell_type": "markdown",
      "metadata": {
        "id": "5GaYQf_jiN5b"
      },
      "source": [
        "Let's classify the tweets into 'Informational' and 'Emotional' categories"
      ]
    },
    {
      "cell_type": "code",
      "execution_count": 55,
      "metadata": {
        "colab": {
          "base_uri": "https://localhost:8080/",
          "height": 384,
          "referenced_widgets": [
            "e9fe7f8fd9964456bbeef9a01c3b8f80",
            "c2ac46968c6f4da580d913de3a33b00b",
            "e3cddb7935cd45be842c64f33a4eca32",
            "8869eefea91e48a6a3738d5bff9d51f4",
            "ed46447b2eda4fd1a0f1bab421b27e06",
            "910bc088a2694cf481d84948471dfc80",
            "59ae36797c7c4dad930130b2bba43307",
            "ebbb1eb282964eb4a4f9a4386d8a4f20",
            "03ea66a13b184ddc85764ce932a38fb3",
            "92c88b6909fb49d496d83fdcae6d9022",
            "261162e97b204b6e9e849137cd970071",
            "bd49bc00110c4c3592c615904b4bf6c1",
            "8e61b61135a7451b93d2a4121813f40e",
            "819cb0d0299946a49b674f384b0bdda0",
            "8cff11ccf1044c8aa8f07914602f6a76",
            "0dfaac9e087d42d19b98639e205f5dc0",
            "d2c9297d33dc4435af13be4bc78ecddf",
            "04dd902287614e15a9277800eb6cede5",
            "96c0cc99da0f4b6c95d633316410583f",
            "8858d417cad848d0babca82731ac1fb6",
            "d135b450639c49e6aec61626f3fb6516",
            "7b0c2fda233048cdbe437e69b1420dfa",
            "6e654fc449664f23a9b797def6412f55",
            "acddd2a1a4274470af202e1924eaf1f4",
            "51acf48319b84322911652e2a390822b",
            "21ee7e8041414698ac811b602c5d7291",
            "fa657bf98e2446b98d63e5a2b71f1fe1",
            "175c3c2adec64354983674cde2f4a42d",
            "700918e9d065478a80ece0d35835da8c",
            "1dbcddca742c44149ebdf2aec21d32ed",
            "3ba5dd477c1044db86119de243788da4",
            "2cb15f7d1b0f407b82e2441f160a8f46",
            "62b11067323b45c3ab03f96df2321d78",
            "c4250e2423a944ecbdf163639ca63701",
            "28b6b32b38fe473ab4ae24b0ba46bba9",
            "bdc8e1376f99421db0bb6551fada96c2",
            "3fcca5ea077a415ea91ebf771928356a",
            "ca5b2a0d5b2646618f684a1ae79b4361",
            "4a7d7b74c0b24dd29f892f83106c67d9",
            "1165a98582d145bc841091ea1ae1ff97",
            "808e55fe77ff463eacf33ed78b7e36bc",
            "6eaac1b66c8944b2881570508f63abfc",
            "26f274bdbaaf473489a6933106acc697",
            "c8ac101405e1402c85d603f15ea26c43"
          ]
        },
        "id": "Pt-2AGUeiKtC",
        "outputId": "e01a6acc-d63f-4ced-9b09-ff681e0900c5"
      },
      "outputs": [
        {
          "ename": "RuntimeError",
          "evalue": "At least one of TensorFlow 2.0 or PyTorch should be installed. To install TensorFlow 2.0, read the instructions at https://www.tensorflow.org/install/ To install PyTorch, read the instructions at https://pytorch.org/.",
          "output_type": "error",
          "traceback": [
            "\u001b[1;31m---------------------------------------------------------------------------\u001b[0m",
            "\u001b[1;31mRuntimeError\u001b[0m                              Traceback (most recent call last)",
            "Cell \u001b[1;32mIn[55], line 4\u001b[0m\n\u001b[0;32m      1\u001b[0m \u001b[38;5;28;01mfrom\u001b[39;00m \u001b[38;5;21;01mtransformers\u001b[39;00m \u001b[38;5;28;01mimport\u001b[39;00m pipeline\n\u001b[0;32m      3\u001b[0m \u001b[38;5;66;03m# Load a pre-trained model and tokenizer from Hugging Face\u001b[39;00m\n\u001b[1;32m----> 4\u001b[0m classifier \u001b[38;5;241m=\u001b[39m \u001b[43mpipeline\u001b[49m\u001b[43m(\u001b[49m\u001b[38;5;124;43m'\u001b[39;49m\u001b[38;5;124;43msentiment-analysis\u001b[39;49m\u001b[38;5;124;43m'\u001b[39;49m\u001b[43m,\u001b[49m\u001b[43m \u001b[49m\u001b[43mmodel\u001b[49m\u001b[38;5;241;43m=\u001b[39;49m\u001b[38;5;124;43m'\u001b[39;49m\u001b[38;5;124;43mdistilbert-base-uncased-finetuned-sst-2-english\u001b[39;49m\u001b[38;5;124;43m'\u001b[39;49m\u001b[43m)\u001b[49m\n\u001b[0;32m      6\u001b[0m \u001b[38;5;66;03m# Function to classify text\u001b[39;00m\n\u001b[0;32m      7\u001b[0m \u001b[38;5;28;01mdef\u001b[39;00m \u001b[38;5;21mclassify_text\u001b[39m(text):\n",
            "File \u001b[1;32md:\\Anaconda\\Lib\\site-packages\\transformers\\pipelines\\__init__.py:870\u001b[0m, in \u001b[0;36mpipeline\u001b[1;34m(task, model, config, tokenizer, feature_extractor, image_processor, framework, revision, use_fast, token, device, device_map, torch_dtype, trust_remote_code, model_kwargs, pipeline_class, **kwargs)\u001b[0m\n\u001b[0;32m    868\u001b[0m \u001b[38;5;28;01mif\u001b[39;00m \u001b[38;5;28misinstance\u001b[39m(model, \u001b[38;5;28mstr\u001b[39m) \u001b[38;5;129;01mor\u001b[39;00m framework \u001b[38;5;129;01mis\u001b[39;00m \u001b[38;5;28;01mNone\u001b[39;00m:\n\u001b[0;32m    869\u001b[0m     model_classes \u001b[38;5;241m=\u001b[39m {\u001b[38;5;124m\"\u001b[39m\u001b[38;5;124mtf\u001b[39m\u001b[38;5;124m\"\u001b[39m: targeted_task[\u001b[38;5;124m\"\u001b[39m\u001b[38;5;124mtf\u001b[39m\u001b[38;5;124m\"\u001b[39m], \u001b[38;5;124m\"\u001b[39m\u001b[38;5;124mpt\u001b[39m\u001b[38;5;124m\"\u001b[39m: targeted_task[\u001b[38;5;124m\"\u001b[39m\u001b[38;5;124mpt\u001b[39m\u001b[38;5;124m\"\u001b[39m]}\n\u001b[1;32m--> 870\u001b[0m     framework, model \u001b[38;5;241m=\u001b[39m \u001b[43minfer_framework_load_model\u001b[49m\u001b[43m(\u001b[49m\n\u001b[0;32m    871\u001b[0m \u001b[43m        \u001b[49m\u001b[43mmodel\u001b[49m\u001b[43m,\u001b[49m\n\u001b[0;32m    872\u001b[0m \u001b[43m        \u001b[49m\u001b[43mmodel_classes\u001b[49m\u001b[38;5;241;43m=\u001b[39;49m\u001b[43mmodel_classes\u001b[49m\u001b[43m,\u001b[49m\n\u001b[0;32m    873\u001b[0m \u001b[43m        \u001b[49m\u001b[43mconfig\u001b[49m\u001b[38;5;241;43m=\u001b[39;49m\u001b[43mconfig\u001b[49m\u001b[43m,\u001b[49m\n\u001b[0;32m    874\u001b[0m \u001b[43m        \u001b[49m\u001b[43mframework\u001b[49m\u001b[38;5;241;43m=\u001b[39;49m\u001b[43mframework\u001b[49m\u001b[43m,\u001b[49m\n\u001b[0;32m    875\u001b[0m \u001b[43m        \u001b[49m\u001b[43mtask\u001b[49m\u001b[38;5;241;43m=\u001b[39;49m\u001b[43mtask\u001b[49m\u001b[43m,\u001b[49m\n\u001b[0;32m    876\u001b[0m \u001b[43m        \u001b[49m\u001b[38;5;241;43m*\u001b[39;49m\u001b[38;5;241;43m*\u001b[39;49m\u001b[43mhub_kwargs\u001b[49m\u001b[43m,\u001b[49m\n\u001b[0;32m    877\u001b[0m \u001b[43m        \u001b[49m\u001b[38;5;241;43m*\u001b[39;49m\u001b[38;5;241;43m*\u001b[39;49m\u001b[43mmodel_kwargs\u001b[49m\u001b[43m,\u001b[49m\n\u001b[0;32m    878\u001b[0m \u001b[43m    \u001b[49m\u001b[43m)\u001b[49m\n\u001b[0;32m    880\u001b[0m model_config \u001b[38;5;241m=\u001b[39m model\u001b[38;5;241m.\u001b[39mconfig\n\u001b[0;32m    881\u001b[0m hub_kwargs[\u001b[38;5;124m\"\u001b[39m\u001b[38;5;124m_commit_hash\u001b[39m\u001b[38;5;124m\"\u001b[39m] \u001b[38;5;241m=\u001b[39m model\u001b[38;5;241m.\u001b[39mconfig\u001b[38;5;241m.\u001b[39m_commit_hash\n",
            "File \u001b[1;32md:\\Anaconda\\Lib\\site-packages\\transformers\\pipelines\\base.py:229\u001b[0m, in \u001b[0;36minfer_framework_load_model\u001b[1;34m(model, config, model_classes, task, framework, **model_kwargs)\u001b[0m\n\u001b[0;32m    203\u001b[0m \u001b[38;5;250m\u001b[39m\u001b[38;5;124;03m\"\"\"\u001b[39;00m\n\u001b[0;32m    204\u001b[0m \u001b[38;5;124;03mSelect framework (TensorFlow or PyTorch) to use from the `model` passed. Returns a tuple (framework, model).\u001b[39;00m\n\u001b[0;32m    205\u001b[0m \n\u001b[1;32m   (...)\u001b[0m\n\u001b[0;32m    226\u001b[0m \u001b[38;5;124;03m    `Tuple`: A tuple framework, model.\u001b[39;00m\n\u001b[0;32m    227\u001b[0m \u001b[38;5;124;03m\"\"\"\u001b[39;00m\n\u001b[0;32m    228\u001b[0m \u001b[38;5;28;01mif\u001b[39;00m \u001b[38;5;129;01mnot\u001b[39;00m is_tf_available() \u001b[38;5;129;01mand\u001b[39;00m \u001b[38;5;129;01mnot\u001b[39;00m is_torch_available():\n\u001b[1;32m--> 229\u001b[0m     \u001b[38;5;28;01mraise\u001b[39;00m \u001b[38;5;167;01mRuntimeError\u001b[39;00m(\n\u001b[0;32m    230\u001b[0m         \u001b[38;5;124m\"\u001b[39m\u001b[38;5;124mAt least one of TensorFlow 2.0 or PyTorch should be installed. \u001b[39m\u001b[38;5;124m\"\u001b[39m\n\u001b[0;32m    231\u001b[0m         \u001b[38;5;124m\"\u001b[39m\u001b[38;5;124mTo install TensorFlow 2.0, read the instructions at https://www.tensorflow.org/install/ \u001b[39m\u001b[38;5;124m\"\u001b[39m\n\u001b[0;32m    232\u001b[0m         \u001b[38;5;124m\"\u001b[39m\u001b[38;5;124mTo install PyTorch, read the instructions at https://pytorch.org/.\u001b[39m\u001b[38;5;124m\"\u001b[39m\n\u001b[0;32m    233\u001b[0m     )\n\u001b[0;32m    234\u001b[0m \u001b[38;5;28;01mif\u001b[39;00m \u001b[38;5;28misinstance\u001b[39m(model, \u001b[38;5;28mstr\u001b[39m):\n\u001b[0;32m    235\u001b[0m     model_kwargs[\u001b[38;5;124m\"\u001b[39m\u001b[38;5;124m_from_pipeline\u001b[39m\u001b[38;5;124m\"\u001b[39m] \u001b[38;5;241m=\u001b[39m task\n",
            "\u001b[1;31mRuntimeError\u001b[0m: At least one of TensorFlow 2.0 or PyTorch should be installed. To install TensorFlow 2.0, read the instructions at https://www.tensorflow.org/install/ To install PyTorch, read the instructions at https://pytorch.org/."
          ]
        }
      ],
      "source": [
        "from transformers import pipeline\n",
        "\n",
        "# Load a pre-trained model and tokenizer from Hugging Face\n",
        "classifier = pipeline('sentiment-analysis', model='distilbert-base-uncased-finetuned-sst-2-english')\n",
        "\n",
        "# Function to classify text\n",
        "def classify_text(text):\n",
        "    results = classifier(text)\n",
        "    # Map model output to 'Informational' or 'Emotional' categories\n",
        "    if results[0]['label'] == 'POSITIVE':\n",
        "        return 'Emotional'\n",
        "    else:\n",
        "        return 'Informational'\n",
        "\n",
        "# Apply the function to your text data\n",
        "para['category'] = para['text'].apply(classify_text)\n",
        "\n",
        "# Analyze the results\n",
        "brand_categories = para.groupby(['brand', 'category']).size().unstack().fillna(0)\n",
        "\n",
        "print(brand_categories)\n"
      ]
    },
    {
      "cell_type": "code",
      "execution_count": null,
      "metadata": {
        "colab": {
          "base_uri": "https://localhost:8080/",
          "height": 650
        },
        "id": "yaKPwtQPjVmp",
        "outputId": "230b3fcc-b505-4568-ee0d-2dd8f42edca1"
      },
      "outputs": [
        {
          "name": "stdout",
          "output_type": "stream",
          "text": [
            "category     Emotional  Informational\n",
            "brand                                \n",
            "Coca-Cola     0.633838       0.366162\n",
            "T-Mobile      0.458000       0.542000\n",
            "Target        0.338462       0.661538\n",
            "americanair   0.641745       0.358255\n"
          ]
        },
        {
          "data": {
            "image/png": "[encoded data removed]",
            "text/plain": [
              "<Figure size 640x480 with 1 Axes>"
            ]
          },
          "metadata": {},
          "output_type": "display_data"
        }
      ],
      "source": [
        "# Assuming 'tweets_df' has a 'brand' column and a 'category' column from the earlier classification\n",
        "category_counts = tweets_data.groupby('brand')['category'].value_counts(normalize=True).unstack().fillna(0)\n",
        "\n",
        "# This will give you a DataFrame with the proportion of each category per brand\n",
        "print(category_counts)\n",
        "\n",
        "# For visualization\n",
        "category_counts.plot(kind='bar', stacked=True)\n",
        "plt.title('Proportional Distribution of Tweet Categories by Brand')\n",
        "plt.xlabel('Brand')\n",
        "plt.ylabel('Proportion of Tweets')\n",
        "plt.legend(title='Category')\n",
        "plt.show()\n"
      ]
    },
    {
      "cell_type": "markdown",
      "metadata": {
        "id": "KTFz4Yerkbge"
      },
      "source": []
    },
    {
      "cell_type": "markdown",
      "metadata": {
        "id": "6TlZ20ZUkWbv"
      },
      "source": [
        "Each brand seems to have a mix of both 'Informational' and 'Emotional' tweets, with varying proportions.\n",
        "- Coca-Cola: Appears to have a relatively balanced distribution between 'Informational' and 'Emotional' content. This might suggest a strategy that aims to provide information while also engaging emotionally with their audience, perhaps by associating their products with positive feelings and experiences.\n",
        "- T-Mobile: Shows a similar pattern to Coca-Cola with a balance, but with a slightly higher proportion of 'Emotional' content. This could imply that T-Mobile is focusing on creating a brand image that resonates emotionally, perhaps aiming to connect with customers on a personal level beyond just providing service information.\n",
        "- Target: The distribution here is again quite balanced but with a visible shift towards 'Informational' content. Target may be using Twitter to disseminate more information about products, offers, and in-store events, while still maintaining a significant level of emotional engagement with their audience.\n",
        "- American Airlines: This brand has the greatest proportion of 'Informational' content among the depicted brands. This makes sense for an airline company, as customers often look for travel updates, safety information, and other travel-related news. The presence of 'Emotional' content, though less than the others, may be aimed at improving customer relationships and brand loyalty through more engaging, human-centered communication.\n"
      ]
    },
    {
      "cell_type": "markdown",
      "metadata": {
        "id": "hYyiZ9nplFmQ"
      },
      "source": [
        "## Point 4"
      ]
    },
    {
      "cell_type": "markdown",
      "metadata": {
        "id": "Jlmw6PnTmtb6"
      },
      "source": [
        "- Sentiment polarity and subjectivity of brands' tweets:\n",
        "\n",
        "Sentiment polarity gives an idea of how positive or negative the content is. Brands with higher average polarity might focus on positive messaging to foster a favorable brand image. Subjectivity points to the personal opinion and emotional content within the tweets. Brands with higher subjectivity may be using social media to express opinions, evoke emotions, or engage in conversations that can foster a deeper connection with their audience.\n",
        "\n",
        "- Emoji usage by brands in tweets:\n",
        "\n",
        "The total number of emojis used by a brand in tweets can indicate how much they prioritize visual engagement. A brand using more emojis may aim for a more casual, approachable social media presence, while a brand using fewer emojis might lean towards a more traditional or formal tone.\n",
        "Coca-Cola's use of 'hearts' could suggest an attempt to project a friendly and loving brand image. T-Mobile's use of communication-related emojis like 'mobile phone' signifies a focus on connectivity and service. Such targeted emoji usage could reflect marketing campaigns, brand values, or seasonal promotions.\n",
        "\n",
        "- Emoticon usage by brands in tweets:\n",
        "\n",
        "Each brand has a different tendency to use emoticons in their communication. The variety and frequency of emoticons used can reflect the tone and style of the brand's social media presence. Brands with a wider range of emoticons might aim for a more versatile and dynamic interaction with their audience. In contrast, brands that concentrate on a few specific emoticons may be aiming for a more consistent message or emotional response. Since we found a high count for specific emoticons such as smiles or frowns, this can indicate a general trend in how all the analyzed brands aim to resonate with their audience—perhaps striving for positivity or empathy.\n",
        "\n",
        "- Tweet categories by brand (informational or emotional)\n",
        "\n",
        "According to our findings each brand distributes its content between sharing information and creating an emotional connection. Coca-Cola and T-Mobile have a noticeable amount of 'Emotional' content, which may indicate a strategy that emphasizes brand personality and customer relationships. Target and American Airlines, while still having 'Emotional' content, lean more towards 'Informational', likely to maintain a professional brand image and provide customers with useful information.\n",
        "\n"
      ]
    },
    {
      "cell_type": "markdown",
      "metadata": {
        "id": "y1AF-GYbmIFG"
      },
      "source": [
        "In summary:\n",
        "- Coca-Cola tends to balance 'Informational' and 'Emotional' content, possibly aiming to mix engagement with brand messaging.\n",
        "- T-Mobile seems to favor emotional engagement, given the higher use of 'heart' emojis and 'Emotional' content classification.\n",
        "- Target appears to be more informational, but with a good mix of emotional content, suggesting a strategy to inform and engage simultaneously.\n",
        "- American Airlines shows a clear preference for informational content, likely due to the nature of the airline industry where updates and information are crucial."
      ]
    },
    {
      "cell_type": "markdown",
      "metadata": {
        "id": "QoOknykjzjWB"
      },
      "source": []
    },
    {
      "cell_type": "markdown",
      "metadata": {
        "id": "nQ8JdU6cpCXx"
      },
      "source": [
        "# Part 2"
      ]
    },
    {
      "cell_type": "markdown",
      "metadata": {
        "id": "JnK3kYcizhTH"
      },
      "source": [
        "### Data preparation"
      ]
    },
    {
      "cell_type": "markdown",
      "metadata": {
        "id": "nmjUHle3ydPr"
      },
      "source": [
        "Let's look at data again"
      ]
    },
    {
      "cell_type": "code",
      "execution_count": null,
      "metadata": {
        "colab": {
          "base_uri": "https://localhost:8080/",
          "height": 521
        },
        "id": "Ue0O-zMkwFlW",
        "outputId": "9402b4cb-234b-4c24-e524-05c81f698657"
      },
      "outputs": [
        {
          "data": {
            "application/vnd.google.colaboratory.intrinsic+json": {
              "summary": "{\n  \"name\": \"tweets_data\",\n  \"rows\": 2058,\n  \"fields\": [\n    {\n      \"column\": \"id\",\n      \"properties\": {\n        \"dtype\": \"number\",\n        \"std\": 594,\n        \"min\": 1,\n        \"max\": 2058,\n        \"num_unique_values\": 2058,\n        \"samples\": [\n          1299,\n          592,\n          1319\n        ],\n        \"semantic_type\": \"\",\n        \"description\": \"\"\n      }\n    },\n    {\n      \"column\": \"created_at\",\n      \"properties\": {\n        \"dtype\": \"date\",\n        \"min\": \"2019-01-01 07:20:05\",\n        \"max\": \"2021-12-30 22:00:18\",\n        \"num_unique_values\": 2052,\n        \"samples\": [\n          \"2019-07-16 21:34:25\",\n          \"2019-09-23 03:48:45\",\n          \"2020-12-29 18:48:45\"\n        ],\n        \"semantic_type\": \"\",\n        \"description\": \"\"\n      }\n    },\n    {\n      \"column\": \"text\",\n      \"properties\": {\n        \"dtype\": \"string\",\n        \"num_unique_values\": 1957,\n        \"samples\": [\n          \"We have a feeling 2020 is going to be great ... really and Truly. \\ud83d\\ude09\\\\n\\\\nFlying this Jan: @trulyseltzer https://t.co/1TW7Vhfchk\",\n          \"Tag the over-packer in your life. \\ud83d\\ude06 Here\\u2019s to stuffing yourself with good food and creating new memories with those you love. Happy Thanksgiving! https://t.co/a5d0dGyqCw\",\n          \"Breathe in. Breathe out. Breathe easy. HEPA\\u2019s got your back (and all the nasty stuff).\"\n        ],\n        \"semantic_type\": \"\",\n        \"description\": \"\"\n      }\n    },\n    {\n      \"column\": \"likes\",\n      \"properties\": {\n        \"dtype\": \"number\",\n        \"std\": 4853,\n        \"min\": 1,\n        \"max\": 106282,\n        \"num_unique_values\": 889,\n        \"samples\": [\n          6173,\n          1504,\n          207\n        ],\n        \"semantic_type\": \"\",\n        \"description\": \"\"\n      }\n    },\n    {\n      \"column\": \"quotes\",\n      \"properties\": {\n        \"dtype\": \"number\",\n        \"std\": 336,\n        \"min\": 0,\n        \"max\": 7516,\n        \"num_unique_values\": 211,\n        \"samples\": [\n          33,\n          157,\n          235\n        ],\n        \"semantic_type\": \"\",\n        \"description\": \"\"\n      }\n    },\n    {\n      \"column\": \"replies\",\n      \"properties\": {\n        \"dtype\": \"number\",\n        \"std\": 968,\n        \"min\": 0,\n        \"max\": 37780,\n        \"num_unique_values\": 344,\n        \"samples\": [\n          369,\n          124,\n          309\n        ],\n        \"semantic_type\": \"\",\n        \"description\": \"\"\n      }\n    },\n    {\n      \"column\": \"retweets\",\n      \"properties\": {\n        \"dtype\": \"number\",\n        \"std\": 2260,\n        \"min\": 0,\n        \"max\": 42172,\n        \"num_unique_values\": 379,\n        \"samples\": [\n          2116,\n          119,\n          144\n        ],\n        \"semantic_type\": \"\",\n        \"description\": \"\"\n      }\n    },\n    {\n      \"column\": \"brand\",\n      \"properties\": {\n        \"dtype\": \"category\",\n        \"num_unique_values\": 4,\n        \"samples\": [\n          \"Coca-Cola\",\n          \"americanair\",\n          \"T-Mobile\"\n        ],\n        \"semantic_type\": \"\",\n        \"description\": \"\"\n      }\n    },\n    {\n      \"column\": \"followers\",\n      \"properties\": {\n        \"dtype\": \"number\",\n        \"std\": 690520,\n        \"min\": 1488892,\n        \"max\": 3394786,\n        \"num_unique_values\": 14,\n        \"samples\": [\n          2163185,\n          1651186,\n          1488892\n        ],\n        \"semantic_type\": \"\",\n        \"description\": \"\"\n      }\n    },\n    {\n      \"column\": \"following\",\n      \"properties\": {\n        \"dtype\": \"number\",\n        \"std\": 43195,\n        \"min\": 2598,\n        \"max\": 105214,\n        \"num_unique_values\": 7,\n        \"samples\": [\n          12594,\n          57818,\n          105213\n        ],\n        \"semantic_type\": \"\",\n        \"description\": \"\"\n      }\n    },\n    {\n      \"column\": \"polarity\",\n      \"properties\": {\n        \"dtype\": \"number\",\n        \"std\": 0.28114854642647985,\n        \"min\": -1.0,\n        \"max\": 1.0,\n        \"num_unique_values\": 446,\n        \"samples\": [\n          -0.1777777777777778,\n          0.5125,\n          0.2857142857142857\n        ],\n        \"semantic_type\": \"\",\n        \"description\": \"\"\n      }\n    },\n    {\n      \"column\": \"subjectivity\",\n      \"properties\": {\n        \"dtype\": \"number\",\n        \"std\": 0.3171480586042033,\n        \"min\": 0.0,\n        \"max\": 1.0,\n        \"num_unique_values\": 360,\n        \"samples\": [\n          0.2962962962962963,\n          0.1,\n          0.2785714285714286\n        ],\n        \"semantic_type\": \"\",\n        \"description\": \"\"\n      }\n    },\n    {\n      \"column\": \"emojis\",\n      \"properties\": {\n        \"dtype\": \"object\",\n        \"semantic_type\": \"\",\n        \"description\": \"\"\n      }\n    },\n    {\n      \"column\": \"emoji_count\",\n      \"properties\": {\n        \"dtype\": \"number\",\n        \"std\": 3,\n        \"min\": 0,\n        \"max\": 86,\n        \"num_unique_values\": 24,\n        \"samples\": [\n          8,\n          25,\n          2\n        ],\n        \"semantic_type\": \"\",\n        \"description\": \"\"\n      }\n    },\n    {\n      \"column\": \"emoticons_found\",\n      \"properties\": {\n        \"dtype\": \"object\",\n        \"semantic_type\": \"\",\n        \"description\": \"\"\n      }\n    },\n    {\n      \"column\": \"category\",\n      \"properties\": {\n        \"dtype\": \"category\",\n        \"num_unique_values\": 2,\n        \"samples\": [\n          \"Emotional\",\n          \"Informational\"\n        ],\n        \"semantic_type\": \"\",\n        \"description\": \"\"\n      }\n    }\n  ]\n}",
              "type": "dataframe",
              "variable_name": "tweets_data"
            },
            "text/html": [
              "\n",
              "  <div id=\"df-75e45186-cf44-4e1e-8cbd-12b332553ab9\" class=\"colab-df-container\">\n",
              "    <div>\n",
              "<style scoped>\n",
              "    .dataframe tbody tr th:only-of-type {\n",
              "        vertical-align: middle;\n",
              "    }\n",
              "\n",
              "    .dataframe tbody tr th {\n",
              "        vertical-align: top;\n",
              "    }\n",
              "\n",
              "    .dataframe thead th {\n",
              "        text-align: right;\n",
              "    }\n",
              "</style>\n",
              "<table border=\"1\" class=\"dataframe\">\n",
              "  <thead>\n",
              "    <tr style=\"text-align: right;\">\n",
              "      <th></th>\n",
              "      <th>id</th>\n",
              "      <th>created_at</th>\n",
              "      <th>text</th>\n",
              "      <th>likes</th>\n",
              "      <th>quotes</th>\n",
              "      <th>replies</th>\n",
              "      <th>retweets</th>\n",
              "      <th>brand</th>\n",
              "      <th>followers</th>\n",
              "      <th>following</th>\n",
              "      <th>polarity</th>\n",
              "      <th>subjectivity</th>\n",
              "      <th>emojis</th>\n",
              "      <th>emoji_count</th>\n",
              "      <th>emoticons_found</th>\n",
              "      <th>category</th>\n",
              "    </tr>\n",
              "  </thead>\n",
              "  <tbody>\n",
              "    <tr>\n",
              "      <th>0</th>\n",
              "      <td>1</td>\n",
              "      <td>2020-01-01 00:10:14</td>\n",
              "      <td>The #TueYearsEve $20 gift card giveaway is off...</td>\n",
              "      <td>862</td>\n",
              "      <td>23</td>\n",
              "      <td>362</td>\n",
              "      <td>105</td>\n",
              "      <td>T-Mobile</td>\n",
              "      <td>1488892</td>\n",
              "      <td>12594</td>\n",
              "      <td>0.480000</td>\n",
              "      <td>0.470000</td>\n",
              "      <td>[🤑, 📲]</td>\n",
              "      <td>2</td>\n",
              "      <td>[:/, :/]</td>\n",
              "      <td>Informational</td>\n",
              "    </tr>\n",
              "    <tr>\n",
              "      <th>1</th>\n",
              "      <td>2</td>\n",
              "      <td>2019-12-31 21:00:04</td>\n",
              "      <td>If you could have 2020 of something, it would be:</td>\n",
              "      <td>517</td>\n",
              "      <td>15</td>\n",
              "      <td>269</td>\n",
              "      <td>92</td>\n",
              "      <td>T-Mobile</td>\n",
              "      <td>1488892</td>\n",
              "      <td>12594</td>\n",
              "      <td>0.000000</td>\n",
              "      <td>0.000000</td>\n",
              "      <td>[]</td>\n",
              "      <td>0</td>\n",
              "      <td>[]</td>\n",
              "      <td>Informational</td>\n",
              "    </tr>\n",
              "    <tr>\n",
              "      <th>2</th>\n",
              "      <td>3</td>\n",
              "      <td>2019-12-31 20:00:00</td>\n",
              "      <td>New year, new you, new $20 gift card🤑 \\nReply ...</td>\n",
              "      <td>7502</td>\n",
              "      <td>2368</td>\n",
              "      <td>37780</td>\n",
              "      <td>3233</td>\n",
              "      <td>T-Mobile</td>\n",
              "      <td>1488892</td>\n",
              "      <td>12594</td>\n",
              "      <td>0.302273</td>\n",
              "      <td>0.440909</td>\n",
              "      <td>[🤑]</td>\n",
              "      <td>1</td>\n",
              "      <td>[:/]</td>\n",
              "      <td>Informational</td>\n",
              "    </tr>\n",
              "    <tr>\n",
              "      <th>3</th>\n",
              "      <td>4</td>\n",
              "      <td>2019-12-31 18:00:00</td>\n",
              "      <td>Start the new year off on the right… vacation ...</td>\n",
              "      <td>508</td>\n",
              "      <td>6</td>\n",
              "      <td>39</td>\n",
              "      <td>101</td>\n",
              "      <td>T-Mobile</td>\n",
              "      <td>1488892</td>\n",
              "      <td>12594</td>\n",
              "      <td>0.068182</td>\n",
              "      <td>0.227273</td>\n",
              "      <td>[🧳, 💯, 📲]</td>\n",
              "      <td>3</td>\n",
              "      <td>[:/, :/]</td>\n",
              "      <td>Informational</td>\n",
              "    </tr>\n",
              "    <tr>\n",
              "      <th>4</th>\n",
              "      <td>5</td>\n",
              "      <td>2019-12-31 11:00:00</td>\n",
              "      <td>New York drops the ball. We drop money 🤑\\n\\nKi...</td>\n",
              "      <td>6838</td>\n",
              "      <td>218</td>\n",
              "      <td>1225</td>\n",
              "      <td>2129</td>\n",
              "      <td>T-Mobile</td>\n",
              "      <td>1488892</td>\n",
              "      <td>12594</td>\n",
              "      <td>0.312121</td>\n",
              "      <td>0.284848</td>\n",
              "      <td>[🤑, 🎉]</td>\n",
              "      <td>2</td>\n",
              "      <td>[:/]</td>\n",
              "      <td>Informational</td>\n",
              "    </tr>\n",
              "  </tbody>\n",
              "</table>\n",
              "</div>\n",
              "    <div class=\"colab-df-buttons\">\n",
              "\n",
              "  <div class=\"colab-df-container\">\n",
              "    <button class=\"colab-df-convert\" onclick=\"convertToInteractive('df-75e45186-cf44-4e1e-8cbd-12b332553ab9')\"\n",
              "            title=\"Convert this dataframe to an interactive table.\"\n",
              "            style=\"display:none;\">\n",
              "\n",
              "  <svg xmlns=\"http://www.w3.org/2000/svg\" height=\"24px\" viewBox=\"0 -960 960 960\">\n",
              "    <path d=\"M120-120v-720h720v720H120Zm60-500h600v-160H180v160Zm220 220h160v-160H400v160Zm0 220h160v-160H400v160ZM180-400h160v-160H180v160Zm440 0h160v-160H620v160ZM180-180h160v-160H180v160Zm440 0h160v-160H620v160Z\"/>\n",
              "  </svg>\n",
              "    </button>\n",
              "\n",
              "  <style>\n",
              "    .colab-df-container {\n",
              "      display:flex;\n",
              "      gap: 12px;\n",
              "    }\n",
              "\n",
              "    .colab-df-convert {\n",
              "      background-color: #E8F0FE;\n",
              "      border: none;\n",
              "      border-radius: 50%;\n",
              "      cursor: pointer;\n",
              "      display: none;\n",
              "      fill: #1967D2;\n",
              "      height: 32px;\n",
              "      padding: 0 0 0 0;\n",
              "      width: 32px;\n",
              "    }\n",
              "\n",
              "    .colab-df-convert:hover {\n",
              "      background-color: #E2EBFA;\n",
              "      box-shadow: 0px 1px 2px rgba(60, 64, 67, 0.3), 0px 1px 3px 1px rgba(60, 64, 67, 0.15);\n",
              "      fill: #174EA6;\n",
              "    }\n",
              "\n",
              "    .colab-df-buttons div {\n",
              "      margin-bottom: 4px;\n",
              "    }\n",
              "\n",
              "    [theme=dark] .colab-df-convert {\n",
              "      background-color: #3B4455;\n",
              "      fill: #D2E3FC;\n",
              "    }\n",
              "\n",
              "    [theme=dark] .colab-df-convert:hover {\n",
              "      background-color: #434B5C;\n",
              "      box-shadow: 0px 1px 3px 1px rgba(0, 0, 0, 0.15);\n",
              "      filter: drop-shadow(0px 1px 2px rgba(0, 0, 0, 0.3));\n",
              "      fill: #FFFFFF;\n",
              "    }\n",
              "  </style>\n",
              "\n",
              "    <script>\n",
              "      const buttonEl =\n",
              "        document.querySelector('#df-75e45186-cf44-4e1e-8cbd-12b332553ab9 button.colab-df-convert');\n",
              "      buttonEl.style.display =\n",
              "        google.colab.kernel.accessAllowed ? 'block' : 'none';\n",
              "\n",
              "      async function convertToInteractive(key) {\n",
              "        const element = document.querySelector('#df-75e45186-cf44-4e1e-8cbd-12b332553ab9');\n",
              "        const dataTable =\n",
              "          await google.colab.kernel.invokeFunction('convertToInteractive',\n",
              "                                                    [key], {});\n",
              "        if (!dataTable) return;\n",
              "\n",
              "        const docLinkHtml = 'Like what you see? Visit the ' +\n",
              "          '<a target=\"_blank\" href=https://colab.research.google.com/notebooks/data_table.ipynb>data table notebook</a>'\n",
              "          + ' to learn more about interactive tables.';\n",
              "        element.innerHTML = '';\n",
              "        dataTable['output_type'] = 'display_data';\n",
              "        await google.colab.output.renderOutput(dataTable, element);\n",
              "        const docLink = document.createElement('div');\n",
              "        docLink.innerHTML = docLinkHtml;\n",
              "        element.appendChild(docLink);\n",
              "      }\n",
              "    </script>\n",
              "  </div>\n",
              "\n",
              "\n",
              "<div id=\"df-6cd87822-daba-40e0-b307-207e140afcb6\">\n",
              "  <button class=\"colab-df-quickchart\" onclick=\"quickchart('df-6cd87822-daba-40e0-b307-207e140afcb6')\"\n",
              "            title=\"Suggest charts\"\n",
              "            style=\"display:none;\">\n",
              "\n",
              "<svg xmlns=\"http://www.w3.org/2000/svg\" height=\"24px\"viewBox=\"0 0 24 24\"\n",
              "     width=\"24px\">\n",
              "    <g>\n",
              "        <path d=\"M19 3H5c-1.1 0-2 .9-2 2v14c0 1.1.9 2 2 2h14c1.1 0 2-.9 2-2V5c0-1.1-.9-2-2-2zM9 17H7v-7h2v7zm4 0h-2V7h2v10zm4 0h-2v-4h2v4z\"/>\n",
              "    </g>\n",
              "</svg>\n",
              "  </button>\n",
              "\n",
              "<style>\n",
              "  .colab-df-quickchart {\n",
              "      --bg-color: #E8F0FE;\n",
              "      --fill-color: #1967D2;\n",
              "      --hover-bg-color: #E2EBFA;\n",
              "      --hover-fill-color: #174EA6;\n",
              "      --disabled-fill-color: #AAA;\n",
              "      --disabled-bg-color: #DDD;\n",
              "  }\n",
              "\n",
              "  [theme=dark] .colab-df-quickchart {\n",
              "      --bg-color: #3B4455;\n",
              "      --fill-color: #D2E3FC;\n",
              "      --hover-bg-color: #434B5C;\n",
              "      --hover-fill-color: #FFFFFF;\n",
              "      --disabled-bg-color: #3B4455;\n",
              "      --disabled-fill-color: #666;\n",
              "  }\n",
              "\n",
              "  .colab-df-quickchart {\n",
              "    background-color: var(--bg-color);\n",
              "    border: none;\n",
              "    border-radius: 50%;\n",
              "    cursor: pointer;\n",
              "    display: none;\n",
              "    fill: var(--fill-color);\n",
              "    height: 32px;\n",
              "    padding: 0;\n",
              "    width: 32px;\n",
              "  }\n",
              "\n",
              "  .colab-df-quickchart:hover {\n",
              "    background-color: var(--hover-bg-color);\n",
              "    box-shadow: 0 1px 2px rgba(60, 64, 67, 0.3), 0 1px 3px 1px rgba(60, 64, 67, 0.15);\n",
              "    fill: var(--button-hover-fill-color);\n",
              "  }\n",
              "\n",
              "  .colab-df-quickchart-complete:disabled,\n",
              "  .colab-df-quickchart-complete:disabled:hover {\n",
              "    background-color: var(--disabled-bg-color);\n",
              "    fill: var(--disabled-fill-color);\n",
              "    box-shadow: none;\n",
              "  }\n",
              "\n",
              "  .colab-df-spinner {\n",
              "    border: 2px solid var(--fill-color);\n",
              "    border-color: transparent;\n",
              "    border-bottom-color: var(--fill-color);\n",
              "    animation:\n",
              "      spin 1s steps(1) infinite;\n",
              "  }\n",
              "\n",
              "  @keyframes spin {\n",
              "    0% {\n",
              "      border-color: transparent;\n",
              "      border-bottom-color: var(--fill-color);\n",
              "      border-left-color: var(--fill-color);\n",
              "    }\n",
              "    20% {\n",
              "      border-color: transparent;\n",
              "      border-left-color: var(--fill-color);\n",
              "      border-top-color: var(--fill-color);\n",
              "    }\n",
              "    30% {\n",
              "      border-color: transparent;\n",
              "      border-left-color: var(--fill-color);\n",
              "      border-top-color: var(--fill-color);\n",
              "      border-right-color: var(--fill-color);\n",
              "    }\n",
              "    40% {\n",
              "      border-color: transparent;\n",
              "      border-right-color: var(--fill-color);\n",
              "      border-top-color: var(--fill-color);\n",
              "    }\n",
              "    60% {\n",
              "      border-color: transparent;\n",
              "      border-right-color: var(--fill-color);\n",
              "    }\n",
              "    80% {\n",
              "      border-color: transparent;\n",
              "      border-right-color: var(--fill-color);\n",
              "      border-bottom-color: var(--fill-color);\n",
              "    }\n",
              "    90% {\n",
              "      border-color: transparent;\n",
              "      border-bottom-color: var(--fill-color);\n",
              "    }\n",
              "  }\n",
              "</style>\n",
              "\n",
              "  <script>\n",
              "    async function quickchart(key) {\n",
              "      const quickchartButtonEl =\n",
              "        document.querySelector('#' + key + ' button');\n",
              "      quickchartButtonEl.disabled = true;  // To prevent multiple clicks.\n",
              "      quickchartButtonEl.classList.add('colab-df-spinner');\n",
              "      try {\n",
              "        const charts = await google.colab.kernel.invokeFunction(\n",
              "            'suggestCharts', [key], {});\n",
              "      } catch (error) {\n",
              "        console.error('Error during call to suggestCharts:', error);\n",
              "      }\n",
              "      quickchartButtonEl.classList.remove('colab-df-spinner');\n",
              "      quickchartButtonEl.classList.add('colab-df-quickchart-complete');\n",
              "    }\n",
              "    (() => {\n",
              "      let quickchartButtonEl =\n",
              "        document.querySelector('#df-6cd87822-daba-40e0-b307-207e140afcb6 button');\n",
              "      quickchartButtonEl.style.display =\n",
              "        google.colab.kernel.accessAllowed ? 'block' : 'none';\n",
              "    })();\n",
              "  </script>\n",
              "</div>\n",
              "    </div>\n",
              "  </div>\n"
            ],
            "text/plain": [
              "   id          created_at                                               text  \\\n",
              "0   1 2020-01-01 00:10:14  The #TueYearsEve $20 gift card giveaway is off...   \n",
              "1   2 2019-12-31 21:00:04  If you could have 2020 of something, it would be:   \n",
              "2   3 2019-12-31 20:00:00  New year, new you, new $20 gift card🤑 \\nReply ...   \n",
              "3   4 2019-12-31 18:00:00  Start the new year off on the right… vacation ...   \n",
              "4   5 2019-12-31 11:00:00  New York drops the ball. We drop money 🤑\\n\\nKi...   \n",
              "\n",
              "   likes  quotes  replies  retweets     brand  followers  following  polarity  \\\n",
              "0    862      23      362       105  T-Mobile    1488892      12594  0.480000   \n",
              "1    517      15      269        92  T-Mobile    1488892      12594  0.000000   \n",
              "2   7502    2368    37780      3233  T-Mobile    1488892      12594  0.302273   \n",
              "3    508       6       39       101  T-Mobile    1488892      12594  0.068182   \n",
              "4   6838     218     1225      2129  T-Mobile    1488892      12594  0.312121   \n",
              "\n",
              "   subjectivity     emojis  emoji_count emoticons_found       category  \n",
              "0      0.470000     [🤑, 📲]            2        [:/, :/]  Informational  \n",
              "1      0.000000         []            0              []  Informational  \n",
              "2      0.440909        [🤑]            1            [:/]  Informational  \n",
              "3      0.227273  [🧳, 💯, 📲]            3        [:/, :/]  Informational  \n",
              "4      0.284848     [🤑, 🎉]            2            [:/]  Informational  "
            ]
          },
          "execution_count": 22,
          "metadata": {},
          "output_type": "execute_result"
        }
      ],
      "source": [
        "tweets_data.head()"
      ]
    },
    {
      "cell_type": "markdown",
      "metadata": {
        "id": "IbZsRf3cxxzk"
      },
      "source": [
        "Create a new column 'category_dummy' where 'Emotional' is 1 and 'Informational' is 0"
      ]
    },
    {
      "cell_type": "code",
      "execution_count": null,
      "metadata": {
        "id": "zJsouQygxZdC"
      },
      "outputs": [],
      "source": [
        "tweets_data['category_dummy'] = tweets_data['category'].apply(lambda x: 1 if x == 'Emotional' else 0)\n",
        "\n",
        "# Now 'tweets_df' will have a new column with dummy variables for the 'category'"
      ]
    },
    {
      "cell_type": "markdown",
      "metadata": {
        "id": "TazRzsncx0eN"
      },
      "source": [
        "Create a new column 'emoticon_count' giving you the number of emoticons found in the tweet"
      ]
    },
    {
      "cell_type": "code",
      "execution_count": null,
      "metadata": {
        "id": "EEQp1cYiysx9"
      },
      "outputs": [],
      "source": [
        "tweets_data['emoticon_count'] = tweets_data['emoticons_found'].apply(len)"
      ]
    },
    {
      "cell_type": "markdown",
      "metadata": {
        "id": "fpCTrQEMzXpZ"
      },
      "source": [
        "Drop unneccesary columns for regression"
      ]
    },
    {
      "cell_type": "code",
      "execution_count": null,
      "metadata": {
        "id": "JDEowHr_y7X5"
      },
      "outputs": [],
      "source": [
        "tweets_data_new = tweets_data.drop(['id','created_at', 'brand', 'text', 'emojis', 'emoticons_found', 'category'], axis = 1)"
      ]
    },
    {
      "cell_type": "code",
      "execution_count": null,
      "metadata": {
        "colab": {
          "base_uri": "https://localhost:8080/",
          "height": 206
        },
        "id": "PDkCXxoa0Ro8",
        "outputId": "526daf4f-fcac-4b72-9983-eef839f2ca4f"
      },
      "outputs": [
        {
          "data": {
            "application/vnd.google.colaboratory.intrinsic+json": {
              "summary": "{\n  \"name\": \"tweets_data_new\",\n  \"rows\": 2058,\n  \"fields\": [\n    {\n      \"column\": \"likes\",\n      \"properties\": {\n        \"dtype\": \"number\",\n        \"std\": 4853,\n        \"min\": 1,\n        \"max\": 106282,\n        \"num_unique_values\": 889,\n        \"samples\": [\n          6173,\n          1504,\n          207\n        ],\n        \"semantic_type\": \"\",\n        \"description\": \"\"\n      }\n    },\n    {\n      \"column\": \"quotes\",\n      \"properties\": {\n        \"dtype\": \"number\",\n        \"std\": 336,\n        \"min\": 0,\n        \"max\": 7516,\n        \"num_unique_values\": 211,\n        \"samples\": [\n          33,\n          157,\n          235\n        ],\n        \"semantic_type\": \"\",\n        \"description\": \"\"\n      }\n    },\n    {\n      \"column\": \"replies\",\n      \"properties\": {\n        \"dtype\": \"number\",\n        \"std\": 968,\n        \"min\": 0,\n        \"max\": 37780,\n        \"num_unique_values\": 344,\n        \"samples\": [\n          369,\n          124,\n          309\n        ],\n        \"semantic_type\": \"\",\n        \"description\": \"\"\n      }\n    },\n    {\n      \"column\": \"retweets\",\n      \"properties\": {\n        \"dtype\": \"number\",\n        \"std\": 2260,\n        \"min\": 0,\n        \"max\": 42172,\n        \"num_unique_values\": 379,\n        \"samples\": [\n          2116,\n          119,\n          144\n        ],\n        \"semantic_type\": \"\",\n        \"description\": \"\"\n      }\n    },\n    {\n      \"column\": \"followers\",\n      \"properties\": {\n        \"dtype\": \"number\",\n        \"std\": 690520,\n        \"min\": 1488892,\n        \"max\": 3394786,\n        \"num_unique_values\": 14,\n        \"samples\": [\n          2163185,\n          1651186,\n          1488892\n        ],\n        \"semantic_type\": \"\",\n        \"description\": \"\"\n      }\n    },\n    {\n      \"column\": \"following\",\n      \"properties\": {\n        \"dtype\": \"number\",\n        \"std\": 43195,\n        \"min\": 2598,\n        \"max\": 105214,\n        \"num_unique_values\": 7,\n        \"samples\": [\n          12594,\n          57818,\n          105213\n        ],\n        \"semantic_type\": \"\",\n        \"description\": \"\"\n      }\n    },\n    {\n      \"column\": \"polarity\",\n      \"properties\": {\n        \"dtype\": \"number\",\n        \"std\": 0.28114854642647985,\n        \"min\": -1.0,\n        \"max\": 1.0,\n        \"num_unique_values\": 446,\n        \"samples\": [\n          -0.1777777777777778,\n          0.5125,\n          0.2857142857142857\n        ],\n        \"semantic_type\": \"\",\n        \"description\": \"\"\n      }\n    },\n    {\n      \"column\": \"subjectivity\",\n      \"properties\": {\n        \"dtype\": \"number\",\n        \"std\": 0.3171480586042033,\n        \"min\": 0.0,\n        \"max\": 1.0,\n        \"num_unique_values\": 360,\n        \"samples\": [\n          0.2962962962962963,\n          0.1,\n          0.2785714285714286\n        ],\n        \"semantic_type\": \"\",\n        \"description\": \"\"\n      }\n    },\n    {\n      \"column\": \"emoji_count\",\n      \"properties\": {\n        \"dtype\": \"number\",\n        \"std\": 3,\n        \"min\": 0,\n        \"max\": 86,\n        \"num_unique_values\": 24,\n        \"samples\": [\n          8,\n          25,\n          2\n        ],\n        \"semantic_type\": \"\",\n        \"description\": \"\"\n      }\n    },\n    {\n      \"column\": \"category_dummy\",\n      \"properties\": {\n        \"dtype\": \"number\",\n        \"std\": 0,\n        \"min\": 0,\n        \"max\": 1,\n        \"num_unique_values\": 2,\n        \"samples\": [\n          1,\n          0\n        ],\n        \"semantic_type\": \"\",\n        \"description\": \"\"\n      }\n    },\n    {\n      \"column\": \"emoticon_count\",\n      \"properties\": {\n        \"dtype\": \"number\",\n        \"std\": 0,\n        \"min\": 0,\n        \"max\": 5,\n        \"num_unique_values\": 6,\n        \"samples\": [\n          2,\n          0\n        ],\n        \"semantic_type\": \"\",\n        \"description\": \"\"\n      }\n    }\n  ]\n}",
              "type": "dataframe",
              "variable_name": "tweets_data_new"
            },
            "text/html": [
              "\n",
              "  <div id=\"df-22374f35-3c2b-4a84-ac28-9cf2106846c3\" class=\"colab-df-container\">\n",
              "    <div>\n",
              "<style scoped>\n",
              "    .dataframe tbody tr th:only-of-type {\n",
              "        vertical-align: middle;\n",
              "    }\n",
              "\n",
              "    .dataframe tbody tr th {\n",
              "        vertical-align: top;\n",
              "    }\n",
              "\n",
              "    .dataframe thead th {\n",
              "        text-align: right;\n",
              "    }\n",
              "</style>\n",
              "<table border=\"1\" class=\"dataframe\">\n",
              "  <thead>\n",
              "    <tr style=\"text-align: right;\">\n",
              "      <th></th>\n",
              "      <th>likes</th>\n",
              "      <th>quotes</th>\n",
              "      <th>replies</th>\n",
              "      <th>retweets</th>\n",
              "      <th>followers</th>\n",
              "      <th>following</th>\n",
              "      <th>polarity</th>\n",
              "      <th>subjectivity</th>\n",
              "      <th>emoji_count</th>\n",
              "      <th>category_dummy</th>\n",
              "      <th>emoticon_count</th>\n",
              "    </tr>\n",
              "  </thead>\n",
              "  <tbody>\n",
              "    <tr>\n",
              "      <th>0</th>\n",
              "      <td>862</td>\n",
              "      <td>23</td>\n",
              "      <td>362</td>\n",
              "      <td>105</td>\n",
              "      <td>1488892</td>\n",
              "      <td>12594</td>\n",
              "      <td>0.480000</td>\n",
              "      <td>0.470000</td>\n",
              "      <td>2</td>\n",
              "      <td>0</td>\n",
              "      <td>2</td>\n",
              "    </tr>\n",
              "    <tr>\n",
              "      <th>1</th>\n",
              "      <td>517</td>\n",
              "      <td>15</td>\n",
              "      <td>269</td>\n",
              "      <td>92</td>\n",
              "      <td>1488892</td>\n",
              "      <td>12594</td>\n",
              "      <td>0.000000</td>\n",
              "      <td>0.000000</td>\n",
              "      <td>0</td>\n",
              "      <td>0</td>\n",
              "      <td>0</td>\n",
              "    </tr>\n",
              "    <tr>\n",
              "      <th>2</th>\n",
              "      <td>7502</td>\n",
              "      <td>2368</td>\n",
              "      <td>37780</td>\n",
              "      <td>3233</td>\n",
              "      <td>1488892</td>\n",
              "      <td>12594</td>\n",
              "      <td>0.302273</td>\n",
              "      <td>0.440909</td>\n",
              "      <td>1</td>\n",
              "      <td>0</td>\n",
              "      <td>1</td>\n",
              "    </tr>\n",
              "    <tr>\n",
              "      <th>3</th>\n",
              "      <td>508</td>\n",
              "      <td>6</td>\n",
              "      <td>39</td>\n",
              "      <td>101</td>\n",
              "      <td>1488892</td>\n",
              "      <td>12594</td>\n",
              "      <td>0.068182</td>\n",
              "      <td>0.227273</td>\n",
              "      <td>3</td>\n",
              "      <td>0</td>\n",
              "      <td>2</td>\n",
              "    </tr>\n",
              "    <tr>\n",
              "      <th>4</th>\n",
              "      <td>6838</td>\n",
              "      <td>218</td>\n",
              "      <td>1225</td>\n",
              "      <td>2129</td>\n",
              "      <td>1488892</td>\n",
              "      <td>12594</td>\n",
              "      <td>0.312121</td>\n",
              "      <td>0.284848</td>\n",
              "      <td>2</td>\n",
              "      <td>0</td>\n",
              "      <td>1</td>\n",
              "    </tr>\n",
              "  </tbody>\n",
              "</table>\n",
              "</div>\n",
              "    <div class=\"colab-df-buttons\">\n",
              "\n",
              "  <div class=\"colab-df-container\">\n",
              "    <button class=\"colab-df-convert\" onclick=\"convertToInteractive('df-22374f35-3c2b-4a84-ac28-9cf2106846c3')\"\n",
              "            title=\"Convert this dataframe to an interactive table.\"\n",
              "            style=\"display:none;\">\n",
              "\n",
              "  <svg xmlns=\"http://www.w3.org/2000/svg\" height=\"24px\" viewBox=\"0 -960 960 960\">\n",
              "    <path d=\"M120-120v-720h720v720H120Zm60-500h600v-160H180v160Zm220 220h160v-160H400v160Zm0 220h160v-160H400v160ZM180-400h160v-160H180v160Zm440 0h160v-160H620v160ZM180-180h160v-160H180v160Zm440 0h160v-160H620v160Z\"/>\n",
              "  </svg>\n",
              "    </button>\n",
              "\n",
              "  <style>\n",
              "    .colab-df-container {\n",
              "      display:flex;\n",
              "      gap: 12px;\n",
              "    }\n",
              "\n",
              "    .colab-df-convert {\n",
              "      background-color: #E8F0FE;\n",
              "      border: none;\n",
              "      border-radius: 50%;\n",
              "      cursor: pointer;\n",
              "      display: none;\n",
              "      fill: #1967D2;\n",
              "      height: 32px;\n",
              "      padding: 0 0 0 0;\n",
              "      width: 32px;\n",
              "    }\n",
              "\n",
              "    .colab-df-convert:hover {\n",
              "      background-color: #E2EBFA;\n",
              "      box-shadow: 0px 1px 2px rgba(60, 64, 67, 0.3), 0px 1px 3px 1px rgba(60, 64, 67, 0.15);\n",
              "      fill: #174EA6;\n",
              "    }\n",
              "\n",
              "    .colab-df-buttons div {\n",
              "      margin-bottom: 4px;\n",
              "    }\n",
              "\n",
              "    [theme=dark] .colab-df-convert {\n",
              "      background-color: #3B4455;\n",
              "      fill: #D2E3FC;\n",
              "    }\n",
              "\n",
              "    [theme=dark] .colab-df-convert:hover {\n",
              "      background-color: #434B5C;\n",
              "      box-shadow: 0px 1px 3px 1px rgba(0, 0, 0, 0.15);\n",
              "      filter: drop-shadow(0px 1px 2px rgba(0, 0, 0, 0.3));\n",
              "      fill: #FFFFFF;\n",
              "    }\n",
              "  </style>\n",
              "\n",
              "    <script>\n",
              "      const buttonEl =\n",
              "        document.querySelector('#df-22374f35-3c2b-4a84-ac28-9cf2106846c3 button.colab-df-convert');\n",
              "      buttonEl.style.display =\n",
              "        google.colab.kernel.accessAllowed ? 'block' : 'none';\n",
              "\n",
              "      async function convertToInteractive(key) {\n",
              "        const element = document.querySelector('#df-22374f35-3c2b-4a84-ac28-9cf2106846c3');\n",
              "        const dataTable =\n",
              "          await google.colab.kernel.invokeFunction('convertToInteractive',\n",
              "                                                    [key], {});\n",
              "        if (!dataTable) return;\n",
              "\n",
              "        const docLinkHtml = 'Like what you see? Visit the ' +\n",
              "          '<a target=\"_blank\" href=https://colab.research.google.com/notebooks/data_table.ipynb>data table notebook</a>'\n",
              "          + ' to learn more about interactive tables.';\n",
              "        element.innerHTML = '';\n",
              "        dataTable['output_type'] = 'display_data';\n",
              "        await google.colab.output.renderOutput(dataTable, element);\n",
              "        const docLink = document.createElement('div');\n",
              "        docLink.innerHTML = docLinkHtml;\n",
              "        element.appendChild(docLink);\n",
              "      }\n",
              "    </script>\n",
              "  </div>\n",
              "\n",
              "\n",
              "<div id=\"df-c12bace7-89b2-45a6-ace2-7d0807047df5\">\n",
              "  <button class=\"colab-df-quickchart\" onclick=\"quickchart('df-c12bace7-89b2-45a6-ace2-7d0807047df5')\"\n",
              "            title=\"Suggest charts\"\n",
              "            style=\"display:none;\">\n",
              "\n",
              "<svg xmlns=\"http://www.w3.org/2000/svg\" height=\"24px\"viewBox=\"0 0 24 24\"\n",
              "     width=\"24px\">\n",
              "    <g>\n",
              "        <path d=\"M19 3H5c-1.1 0-2 .9-2 2v14c0 1.1.9 2 2 2h14c1.1 0 2-.9 2-2V5c0-1.1-.9-2-2-2zM9 17H7v-7h2v7zm4 0h-2V7h2v10zm4 0h-2v-4h2v4z\"/>\n",
              "    </g>\n",
              "</svg>\n",
              "  </button>\n",
              "\n",
              "<style>\n",
              "  .colab-df-quickchart {\n",
              "      --bg-color: #E8F0FE;\n",
              "      --fill-color: #1967D2;\n",
              "      --hover-bg-color: #E2EBFA;\n",
              "      --hover-fill-color: #174EA6;\n",
              "      --disabled-fill-color: #AAA;\n",
              "      --disabled-bg-color: #DDD;\n",
              "  }\n",
              "\n",
              "  [theme=dark] .colab-df-quickchart {\n",
              "      --bg-color: #3B4455;\n",
              "      --fill-color: #D2E3FC;\n",
              "      --hover-bg-color: #434B5C;\n",
              "      --hover-fill-color: #FFFFFF;\n",
              "      --disabled-bg-color: #3B4455;\n",
              "      --disabled-fill-color: #666;\n",
              "  }\n",
              "\n",
              "  .colab-df-quickchart {\n",
              "    background-color: var(--bg-color);\n",
              "    border: none;\n",
              "    border-radius: 50%;\n",
              "    cursor: pointer;\n",
              "    display: none;\n",
              "    fill: var(--fill-color);\n",
              "    height: 32px;\n",
              "    padding: 0;\n",
              "    width: 32px;\n",
              "  }\n",
              "\n",
              "  .colab-df-quickchart:hover {\n",
              "    background-color: var(--hover-bg-color);\n",
              "    box-shadow: 0 1px 2px rgba(60, 64, 67, 0.3), 0 1px 3px 1px rgba(60, 64, 67, 0.15);\n",
              "    fill: var(--button-hover-fill-color);\n",
              "  }\n",
              "\n",
              "  .colab-df-quickchart-complete:disabled,\n",
              "  .colab-df-quickchart-complete:disabled:hover {\n",
              "    background-color: var(--disabled-bg-color);\n",
              "    fill: var(--disabled-fill-color);\n",
              "    box-shadow: none;\n",
              "  }\n",
              "\n",
              "  .colab-df-spinner {\n",
              "    border: 2px solid var(--fill-color);\n",
              "    border-color: transparent;\n",
              "    border-bottom-color: var(--fill-color);\n",
              "    animation:\n",
              "      spin 1s steps(1) infinite;\n",
              "  }\n",
              "\n",
              "  @keyframes spin {\n",
              "    0% {\n",
              "      border-color: transparent;\n",
              "      border-bottom-color: var(--fill-color);\n",
              "      border-left-color: var(--fill-color);\n",
              "    }\n",
              "    20% {\n",
              "      border-color: transparent;\n",
              "      border-left-color: var(--fill-color);\n",
              "      border-top-color: var(--fill-color);\n",
              "    }\n",
              "    30% {\n",
              "      border-color: transparent;\n",
              "      border-left-color: var(--fill-color);\n",
              "      border-top-color: var(--fill-color);\n",
              "      border-right-color: var(--fill-color);\n",
              "    }\n",
              "    40% {\n",
              "      border-color: transparent;\n",
              "      border-right-color: var(--fill-color);\n",
              "      border-top-color: var(--fill-color);\n",
              "    }\n",
              "    60% {\n",
              "      border-color: transparent;\n",
              "      border-right-color: var(--fill-color);\n",
              "    }\n",
              "    80% {\n",
              "      border-color: transparent;\n",
              "      border-right-color: var(--fill-color);\n",
              "      border-bottom-color: var(--fill-color);\n",
              "    }\n",
              "    90% {\n",
              "      border-color: transparent;\n",
              "      border-bottom-color: var(--fill-color);\n",
              "    }\n",
              "  }\n",
              "</style>\n",
              "\n",
              "  <script>\n",
              "    async function quickchart(key) {\n",
              "      const quickchartButtonEl =\n",
              "        document.querySelector('#' + key + ' button');\n",
              "      quickchartButtonEl.disabled = true;  // To prevent multiple clicks.\n",
              "      quickchartButtonEl.classList.add('colab-df-spinner');\n",
              "      try {\n",
              "        const charts = await google.colab.kernel.invokeFunction(\n",
              "            'suggestCharts', [key], {});\n",
              "      } catch (error) {\n",
              "        console.error('Error during call to suggestCharts:', error);\n",
              "      }\n",
              "      quickchartButtonEl.classList.remove('colab-df-spinner');\n",
              "      quickchartButtonEl.classList.add('colab-df-quickchart-complete');\n",
              "    }\n",
              "    (() => {\n",
              "      let quickchartButtonEl =\n",
              "        document.querySelector('#df-c12bace7-89b2-45a6-ace2-7d0807047df5 button');\n",
              "      quickchartButtonEl.style.display =\n",
              "        google.colab.kernel.accessAllowed ? 'block' : 'none';\n",
              "    })();\n",
              "  </script>\n",
              "</div>\n",
              "    </div>\n",
              "  </div>\n"
            ],
            "text/plain": [
              "   likes  quotes  replies  retweets  followers  following  polarity  \\\n",
              "0    862      23      362       105    1488892      12594  0.480000   \n",
              "1    517      15      269        92    1488892      12594  0.000000   \n",
              "2   7502    2368    37780      3233    1488892      12594  0.302273   \n",
              "3    508       6       39       101    1488892      12594  0.068182   \n",
              "4   6838     218     1225      2129    1488892      12594  0.312121   \n",
              "\n",
              "   subjectivity  emoji_count  category_dummy  emoticon_count  \n",
              "0      0.470000            2               0               2  \n",
              "1      0.000000            0               0               0  \n",
              "2      0.440909            1               0               1  \n",
              "3      0.227273            3               0               2  \n",
              "4      0.284848            2               0               1  "
            ]
          },
          "execution_count": 26,
          "metadata": {},
          "output_type": "execute_result"
        }
      ],
      "source": [
        "tweets_data_new.head()"
      ]
    },
    {
      "cell_type": "markdown",
      "metadata": {
        "id": "FwDfnh0fznDI"
      },
      "source": [
        "## Point 5"
      ]
    },
    {
      "cell_type": "markdown",
      "metadata": {
        "id": "TC9nZkZq0l73"
      },
      "source": [
        "### Model 1: Multiple Linear Regression predicting the number of likes"
      ]
    },
    {
      "cell_type": "markdown",
      "metadata": {
        "id": "qYwMNLAV4SZ4"
      },
      "source": [
        "Interaction terms allow you to explore whether the effect of one predictor variable on the dependent variable depends on the level of another predictor variable. Based on typical social media dynamics we decided to deploy the following interaction terms, each one with an explanation for its deployment:\n",
        "\n",
        "1.  Emoticons and sentiment: an interaction term between emoticon_count and polarity could capture if emoticons enhance the sentiment of a tweet, thus affecting likes more when combined than separately.\n",
        "\n",
        "2.  Subjectivity and sentiment: the combination of subjectivity and polarity could be interesting. Highly subjective and positive tweets might engage users differently than objective and positive ones.\n",
        "\n",
        "3.  Replies and polarity: if negative sentiment (polarity) leads to more replies, this might indicate controversy, which could affect likes. An interaction between replies and polarity could capture this.\n",
        "\n",
        "4.  Followers and retweets: more followers could amplify the effect of retweets on likes, as there is a larger base of potential likers. The interaction term followers * retweets could capture this synergistic effect."
      ]
    },
    {
      "cell_type": "code",
      "execution_count": null,
      "metadata": {
        "id": "5Gu_nS8i43xb"
      },
      "outputs": [],
      "source": [
        "# Creating interaction terms\n",
        "tweets_data_new['emoticon_polarity_interaction'] = tweets_data_new['emoticon_count'] * tweets_data_new['polarity']\n",
        "tweets_data_new['subjectivity_polarity_interaction'] = tweets_data_new['subjectivity'] * tweets_data_new['polarity']\n",
        "tweets_data_new['replies_polarity_interaction'] = tweets_data_new['replies'] * tweets_data_new['polarity']\n",
        "tweets_data_new['followers_retweets_interaction'] = tweets_data_new['followers'] * tweets_data_new['retweets']"
      ]
    },
    {
      "cell_type": "code",
      "execution_count": null,
      "metadata": {
        "colab": {
          "base_uri": "https://localhost:8080/"
        },
        "id": "3bECFcpGzq0E",
        "outputId": "f1de93cb-2c14-4ecc-9040-b73b89963aec"
      },
      "outputs": [
        {
          "name": "stdout",
          "output_type": "stream",
          "text": [
            "                            OLS Regression Results                            \n",
            "==============================================================================\n",
            "Dep. Variable:                  likes   R-squared:                       0.892\n",
            "Model:                            OLS   Adj. R-squared:                  0.891\n",
            "Method:                 Least Squares   F-statistic:                     963.4\n",
            "Date:                Sun, 31 Mar 2024   Prob (F-statistic):               0.00\n",
            "Time:                        08:55:22   Log-Likelihood:                -14380.\n",
            "No. Observations:                1646   AIC:                         2.879e+04\n",
            "Df Residuals:                    1631   BIC:                         2.887e+04\n",
            "Df Model:                          14                                         \n",
            "Covariance Type:            nonrobust                                         \n",
            "=====================================================================================================\n",
            "                                        coef    std err          t      P>|t|      [0.025      0.975]\n",
            "-----------------------------------------------------------------------------------------------------\n",
            "const                               954.6395    148.719      6.419      0.000     662.939    1246.340\n",
            "quotes                                1.8639      0.320      5.826      0.000       1.236       2.491\n",
            "replies                               0.1410      0.073      1.919      0.055      -0.003       0.285\n",
            "retweets                             -7.6586      0.105    -73.193      0.000      -7.864      -7.453\n",
            "followers                            -0.0003   5.51e-05     -4.762      0.000      -0.000      -0.000\n",
            "following                            -0.0026      0.001     -2.861      0.004      -0.004      -0.001\n",
            "polarity                           -518.9098    382.150     -1.358      0.175   -1268.465     230.646\n",
            "subjectivity                        -68.9126    152.795     -0.451      0.652    -368.608     230.783\n",
            "emoji_count                          18.2942      9.351      1.956      0.051      -0.048      36.636\n",
            "category_dummy                       22.9008     82.241      0.278      0.781    -138.408     184.210\n",
            "emoticon_count                     -102.0225     71.804     -1.421      0.156    -242.859      38.815\n",
            "emoticon_polarity_interaction       429.5829    212.369      2.023      0.043      13.039     846.127\n",
            "subjectivity_polarity_interaction   279.5674    474.685      0.589      0.556    -651.489    1210.623\n",
            "replies_polarity_interaction         -0.1545      0.199     -0.777      0.437      -0.545       0.236\n",
            "followers_retweets_interaction     5.203e-06   6.64e-08     78.395      0.000    5.07e-06    5.33e-06\n",
            "==============================================================================\n",
            "Omnibus:                     2219.564   Durbin-Watson:                   1.961\n",
            "Prob(Omnibus):                  0.000   Jarque-Bera (JB):          1746856.203\n",
            "Skew:                           6.878   Prob(JB):                         0.00\n",
            "Kurtosis:                     162.001   Cond. No.                     5.89e+10\n",
            "==============================================================================\n",
            "\n",
            "Notes:\n",
            "[1] Standard Errors assume that the covariance matrix of the errors is correctly specified.\n",
            "[2] The condition number is large, 5.89e+10. This might indicate that there are\n",
            "strong multicollinearity or other numerical problems.\n"
          ]
        }
      ],
      "source": [
        "import statsmodels.api as sm\n",
        "from sklearn.model_selection import train_test_split\n",
        "\n",
        "target = 'likes'\n",
        "train_size = 0.8\n",
        "random_state = 42\n",
        "X = tweets_data_new.drop(target, axis=1)  # Add all predictors\n",
        "y = tweets_data_new[target]  # This could be likes, retweets, etc.\n",
        "\n",
        "# Adding a constant to the model for the intercept\n",
        "X = sm.add_constant(X)\n",
        "\n",
        "# Split the data into training and testing sets\n",
        "X_train, X_test, y_train, y_test = train_test_split(X, y, train_size=train_size, random_state=random_state)\n",
        "\n",
        "# Build the model\n",
        "model_likes = sm.OLS(y_train, X_train).fit()\n",
        "\n",
        "# View the model summary\n",
        "print(model_likes.summary())\n"
      ]
    },
    {
      "cell_type": "markdown",
      "metadata": {
        "id": "K3m6Y5g75WsZ"
      },
      "source": [
        "Model's fit:\n",
        "- R-squared (0.892): This value is quite high, indicating that the model explains a large portion of the variance in the number of likes on tweets. Such a high R-squared value is promising as it suggests the model fits the data well.\n",
        "- It is worth noting how the R squared increased from around 0.4 to almost 0.9 after the addition of interaction terms\n",
        "- Adjusted R-squared (0.891): This is also high and very close to the R-squared value, which indicates that the number of predictors is appropriate and the model is not being penalized for unnecessary complexity.\n",
        "- The F-statistic is significant, suggesting that the overall model is a better fit than an intercept-only model.\n",
        "\n",
        "Significant variables:\n",
        "- 'quotes', 'retweets', and 'followers_retweets_interaction' are statistically significant and positively associated with the number of likes. This implies that tweets with more quotes and retweets, and those that have an interaction between followers and retweets, tend to get more likes.\n",
        "- 'retweets' have a negative coefficient, which is counterintuitive as one would expect more retweets to correlate with more likes. However, since the interaction term with followers is significant and positive, it may suggest that the effect of retweets on likes is moderated by the number of followers.\n",
        "- 'following' has a significant negative association, suggesting that accounts following more users tend to get fewer likes on their tweets.\n",
        "- 'polarity' is not significant, which means that sentiment polarity alone may not have a straightforward impact on the number of likes.\n",
        "- 'emoji_count' is also significant and positively associated with likes, indicating that tweets with more emojis tend to receive more likes."
      ]
    },
    {
      "cell_type": "markdown",
      "metadata": {
        "id": "7gAzIZgO2ddh"
      },
      "source": [
        "### Model 2: Multiple Linear Regression predicting number of replies"
      ]
    },
    {
      "cell_type": "markdown",
      "metadata": {
        "id": "TXGf-UCZ9ZqT"
      },
      "source": [
        "- Sentiment and subjectivity: an interaction between sentiment (polarity) and subjectivity could capture the combined effect of emotional content and personal opinion, which may provoke more discussion and replies.\n",
        "\n",
        "- Followers and tweet content type: If you have a variable indicating the type of content (e.g., video, image, text), the interaction between the number of followers and content type could be insightful, as certain content types might generate more discussion among a larger audience.\n",
        "\n",
        "- Retweets and polarity: This interaction can help understand if more retweets of a particular sentiment tend to generate more replies, suggesting a viral effect that prompts conversations.\n",
        "\n",
        "- Emoticon and emoji count: the presence of emoticons and emojis could make tweets appear more casual and approachable, potentially encouraging more replies. An interaction term between these counts could reveal if their combined presence has a multiplicative effect on engagement.\n",
        "\n",
        "- Quotes and followers: tweets that contain quotes might be part of a conversation or a controversial topic that invites discussion, especially among a user's followers.\n"
      ]
    },
    {
      "cell_type": "code",
      "execution_count": null,
      "metadata": {
        "id": "AjhgNmi-2cSD"
      },
      "outputs": [],
      "source": [
        "tweets_data_new['sentiment_subjectivity_interaction'] = tweets_data_new['polarity'] * tweets_data_new['subjectivity']\n",
        "tweets_data_new['followers_category_interaction'] = tweets_data_new['followers'] * tweets_data_new['category_dummy']  # Assuming you have a dummy variable for content type\n",
        "tweets_data_new['retweets_polarity_interaction'] = tweets_data_new['retweets'] * tweets_data_new['polarity']\n",
        "tweets_data_new['emoticon_emoji_interaction'] = tweets_data_new['emoticon_count'] * tweets_data_new['emoji_count']\n",
        "tweets_data_new['quotes_followers_interaction'] = tweets_data_new['quotes'] * tweets_data_new['followers']"
      ]
    },
    {
      "cell_type": "code",
      "execution_count": null,
      "metadata": {
        "colab": {
          "base_uri": "https://localhost:8080/"
        },
        "id": "uEktldK1-OCs",
        "outputId": "8699d7bb-d6ca-41c0-db53-ed60500bd36f"
      },
      "outputs": [
        {
          "name": "stdout",
          "output_type": "stream",
          "text": [
            "                            OLS Regression Results                            \n",
            "==============================================================================\n",
            "Dep. Variable:                replies   R-squared:                       0.831\n",
            "Model:                            OLS   Adj. R-squared:                  0.829\n",
            "Method:                 Least Squares   F-statistic:                     445.1\n",
            "Date:                Sun, 31 Mar 2024   Prob (F-statistic):               0.00\n",
            "Time:                        08:55:22   Log-Likelihood:                -12344.\n",
            "No. Observations:                1646   AIC:                         2.473e+04\n",
            "Df Residuals:                    1627   BIC:                         2.483e+04\n",
            "Df Model:                          18                                         \n",
            "Covariance Type:            nonrobust                                         \n",
            "======================================================================================================\n",
            "                                         coef    std err          t      P>|t|      [0.025      0.975]\n",
            "------------------------------------------------------------------------------------------------------\n",
            "const                                -40.1317     59.585     -0.674      0.501    -157.003      76.739\n",
            "likes                                  0.0070      0.007      0.965      0.335      -0.007       0.021\n",
            "quotes                                 0.1647      0.346      0.476      0.634      -0.514       0.844\n",
            "retweets                               0.3868      0.072      5.402      0.000       0.246       0.527\n",
            "followers                           3.547e-05   2.54e-05      1.398      0.162   -1.43e-05    8.52e-05\n",
            "following                              0.0002      0.000      0.650      0.516      -0.000       0.001\n",
            "polarity                            -284.4496    111.355     -2.554      0.011    -502.864     -66.035\n",
            "subjectivity                         143.7938     44.389      3.239      0.001      56.729     230.859\n",
            "emoji_count                           -1.6092      2.845     -0.566      0.572      -7.189       3.971\n",
            "category_dummy                       -20.6256     71.003     -0.290      0.771    -159.893     118.642\n",
            "emoticon_count                        -3.3988     21.666     -0.157      0.875     -45.896      39.098\n",
            "emoticon_polarity_interaction         64.5096     61.862      1.043      0.297     -56.829     185.848\n",
            "subjectivity_polarity_interaction    -64.3766     69.272     -0.929      0.353    -200.248      71.495\n",
            "replies_polarity_interaction           2.4305      0.044     55.163      0.000       2.344       2.517\n",
            "followers_retweets_interaction     -1.839e-07   4.43e-08     -4.150      0.000   -2.71e-07    -9.7e-08\n",
            "sentiment_subjectivity_interaction   -64.3766     69.272     -0.929      0.353    -200.248      71.495\n",
            "followers_category_interaction      1.428e-05   3.23e-05      0.442      0.659   -4.91e-05    7.77e-05\n",
            "retweets_polarity_interaction         -0.4705      0.020    -23.514      0.000      -0.510      -0.431\n",
            "emoticon_emoji_interaction             1.3220      6.896      0.192      0.848     -12.203      14.847\n",
            "quotes_followers_interaction        2.383e-07   1.28e-07      1.865      0.062   -1.23e-08    4.89e-07\n",
            "==============================================================================\n",
            "Omnibus:                     2906.764   Durbin-Watson:                   1.937\n",
            "Prob(Omnibus):                  0.000   Jarque-Bera (JB):          7249312.057\n",
            "Skew:                          11.665   Prob(JB):                         0.00\n",
            "Kurtosis:                     327.278   Cond. No.                     1.38e+26\n",
            "==============================================================================\n",
            "\n",
            "Notes:\n",
            "[1] Standard Errors assume that the covariance matrix of the errors is correctly specified.\n",
            "[2] The smallest eigenvalue is 1.23e-30. This might indicate that there are\n",
            "strong multicollinearity problems or that the design matrix is singular.\n"
          ]
        }
      ],
      "source": [
        "import statsmodels.api as sm\n",
        "from sklearn.model_selection import train_test_split\n",
        "\n",
        "target = 'replies'\n",
        "train_size = 0.8\n",
        "random_state = 42\n",
        "X = tweets_data_new.drop(target, axis=1)  # Add all predictors\n",
        "y = tweets_data_new[target]  # This could be likes, retweets, etc.\n",
        "\n",
        "# Adding a constant to the model for the intercept\n",
        "X = sm.add_constant(X)\n",
        "\n",
        "# Split the data into training and testing sets\n",
        "X_train, X_test, y_train, y_test = train_test_split(X, y, train_size=train_size, random_state=random_state)\n",
        "\n",
        "# Build the model\n",
        "model = sm.OLS(y_train, X_train).fit()\n",
        "\n",
        "# View the model summary\n",
        "print(model.summary())\n"
      ]
    },
    {
      "cell_type": "markdown",
      "metadata": {
        "id": "vI1ikNcz_Ate"
      },
      "source": [
        "Model's fit:\n",
        "- R-squared (0.831): This is a strong R-squared value, suggesting that about 83.1% of the variability in the number of replies is explained by the model. This indicates a good fit.\n",
        "- Adjusted R-squared (0.829): Adjusted for the number of predictors, this value remains high, which suggests that the inclusion of additional predictors (including interaction terms) is appropriate and contributing to the model.\n",
        "- The F-statistic is significant, which indicates that the model provides a better fit than an intercept-only model.\n",
        "\n",
        "Significant varibales:\n",
        "- 'retweets' is significant and positively associated with the number of replies, which aligns with the expectation that tweets that are retweeted more often may engage the audience to a greater extent.\n",
        "- 'polarity' shows a negative coefficient and is significant, indicating that tweets with more negative sentiment tend to receive more replies, potentially suggesting that they may invoke more conversation or debate.\n",
        "- 'subjectivity' has a significant positive relationship with the number of replies, suggesting that more opinionated or emotional tweets tend to generate more engagement in the form of replies.\n",
        "- Most of the interaction terms are not statistically significant, but emoticon_polarity_interaction is significant and positive, suggesting that the combination of emoticons and the sentiment expressed in a tweet could amplify the number of replies.\n",
        "- 'followers_retweets_interaction' is also significant and negative, suggesting that for accounts with more followers, the effect of retweets on the number of replies may be different compared to those with fewer followers."
      ]
    },
    {
      "cell_type": "markdown",
      "metadata": {
        "id": "4bR6TSPkFQfy"
      },
      "source": [
        "## Point 6"
      ]
    },
    {
      "cell_type": "markdown",
      "metadata": {
        "id": "j8wF6WPEFUyc"
      },
      "source": [
        "### Point 6a and 6b"
      ]
    },
    {
      "cell_type": "markdown",
      "metadata": {
        "id": "OeibulgnG1td"
      },
      "source": [
        "#### Interpretation and marketing implications for Model 1 (likes)"
      ]
    },
    {
      "cell_type": "markdown",
      "metadata": {
        "id": "Pb-6aGOFG_Zk"
      },
      "source": [
        "Based on the regression model that predicted the number of likes, we were able to draw several key insights and marketing implications.\n",
        "\n",
        "1. **Quotes and likes**:\n",
        "   - **Insight**: the model suggests that tweets containing quotes are more likely to be liked.\n",
        "   - **Marketing implication**: marketers should incorporate relevant and impactful quotes into their tweets. This can include customer testimonials, industry insights, or popular cultural references that resonate with the audience, driving them to 'like' the content as a form of agreement or endorsement.\n",
        "\n",
        "2. **Retweets and likes**:\n",
        "   - **Insight**: an unexpected negative coefficient for `retweets` indicates that tweets with more retweets do not necessarily receive more likes.\n",
        "   - **Marketing implication**: it's essential for marketers to differentiate between content that is 'likeable' versus content that is 'shareable'. They might conduct content audits to understand what makes content shareable and adjust their strategies to also create content that encourages likes, such as positive, affirming messages.\n",
        "\n",
        "3. **Negative sentiment**:\n",
        "   - **Insight**: Negative sentiment polarity is associated with fewer likes, suggesting that users prefer to 'like' tweets with positive sentiment.\n",
        "   - **Marketing implication**: This highlights the importance of maintaining a positive tone in tweets. Marketers should aim to associate their brand with positivity, perhaps by highlighting positive stories, customer successes, or by offering constructive and uplifting messages.\n",
        "\n",
        "4. **Followers and following**:\n",
        "   - **Insight**: the number of followers and accounts followed by a brand has a negative association with likes.\n",
        "   - **Marketing implication**: this suggests that audience size doesn't guarantee engagement. Marketers should focus on nurturing the existing follower base with targeted content and building relationships rather than just increasing follower count. Quality engagement strategies could include engaging directly with followers, personalizing content, and building community.\n",
        "\n",
        "5. **Emojis and likes**:\n",
        "   - **Insight**: emojis are significantly positively related to likes.\n",
        "   - **Marketing implication**: emojis can make content more engaging and relatable. Brands should thoughtfully include emojis that complement the message, making tweets more visually appealing and emotionally expressive, which can increase the propensity for users to 'like' the tweet.\n",
        "\n",
        "6. **Emoticons and sentiment interaction**:\n",
        "   - **Insight**: there is a significant interaction between emoticons and sentiment polarity.\n",
        "   - **Marketing implication**: the combined use of emoticons and sentiment can impact likes. Marketers should consider the context and the sentiment of the message when using emoticons. For instance, a smiley face in a positive tweet can reinforce the sentiment and may make the tweet more 'likeable'.\n"
      ]
    },
    {
      "cell_type": "markdown",
      "metadata": {
        "id": "7mGO4BRnG6W3"
      },
      "source": [
        "#### Interpretation and marketing implications for Model 2 (replies)"
      ]
    },
    {
      "cell_type": "markdown",
      "metadata": {
        "id": "5Um3Szh5F74_"
      },
      "source": [
        "From the regression model predicting replies were able to draw several insights that have direct marketing implications:\n",
        "\n",
        "1. **Emoticons and sentiment influence**: the positive coefficient for the `emoticon_polarity_interaction` indicates that emoticons can amplify the sentiment of a tweet in terms of generating replies. From a marketing perspective, this suggests that carefully pairing emoticons with the message's tone can increase engagement. Marketers could craft tweets that combine sentiment and emoticons to encourage conversation and make posts more relatable and humanized.\n",
        "\n",
        "2. **Negative sentiment drives engagement**: The negative sentiment polarity being significant and negatively associated with the number of replies suggests that tweets with a negative tone or those discussing potentially controversial topics tend to provoke more responses. For marketers, this implies that not all engagement is positive; however, these replies may represent an opportunity to address concerns, provide customer service, or engage in a dialogue that could improve brand perception.\n",
        "\n",
        "3. **Subjectivity attracts replies**: since subjectivity is positively related to replies, tweets that express opinions or emotions might encourage more audience interaction. This could be used in marketing strategies to create more personalized and opinion-driven content that resonates with the audience, potentially leading to greater brand loyalty.\n",
        "\n",
        "4. **Impact of followers and retweets interaction**: The negative coefficient for `followers_retweets_interaction` suggests that for brands with a larger follower base, increases in retweets do not translate as effectively into more replies as they might for smaller brands. Marketers at larger brands might need to focus on other strategies beyond simply amplifying reach to encourage replies and engage their audience.\n",
        "\n",
        "5. **Retweets**: Given the positive coefficient for retweets, this metric continues to be a straightforward indicator of visibility and engagement. Marketers should continue to produce content that is likely to be shared widely.\n",
        "\n"
      ]
    },
    {
      "cell_type": "markdown",
      "metadata": {
        "id": "DQijPIJwI6G3"
      },
      "source": [
        "### Point 6c"
      ]
    },
    {
      "cell_type": "code",
      "execution_count": null,
      "metadata": {},
      "outputs": [],
      "source": [
        "# Turn categoricla column 'brand' into dummy variables\n",
        "tweets_data_new = pd.get_dummies(tweets_data_new, columns=['brand'], drop_first=True)\n",
        "# Check the new data frame with dummy variables\n",
        "tweets_data_new.head()"
      ]
    },
    {
      "cell_type": "code",
      "execution_count": null,
      "metadata": {
        "id": "k4WAIXl0I8LQ"
      },
      "outputs": [],
      "source": [
        "tweets_data_brand = tweets_data.drop(['id','created_at', 'text', 'emojis', 'emoticons_found', 'category'], axis = 1)"
      ]
    },
    {
      "cell_type": "code",
      "execution_count": null,
      "metadata": {
        "id": "MteGY_W_aRi3"
      },
      "outputs": [],
      "source": [
        "# Creating interaction terms\n",
        "tweets_data_brand['emoticon_polarity_interaction'] = tweets_data_brand['emoticon_count'] * tweets_data_brand['polarity']\n",
        "tweets_data_brand['subjectivity_polarity_interaction'] = tweets_data_brand['subjectivity'] * tweets_data_brand['polarity']\n",
        "tweets_data_brand['replies_polarity_interaction'] = tweets_data_brand['replies'] * tweets_data_brand['polarity']\n",
        "tweets_data_brand['followers_retweets_interaction'] = tweets_data_brand['followers'] * tweets_data_brand['retweets']"
      ]
    },
    {
      "cell_type": "code",
      "execution_count": null,
      "metadata": {
        "colab": {
          "base_uri": "https://localhost:8080/"
        },
        "id": "dPZIP3FuX9Yp",
        "outputId": "253ba6ab-fffe-404b-d25e-41438e411dfe"
      },
      "outputs": [
        {
          "name": "stdout",
          "output_type": "stream",
          "text": [
            "                                 OLS Regression Results                                \n",
            "=======================================================================================\n",
            "Dep. Variable:                  likes   R-squared (uncentered):                   0.893\n",
            "Model:                            OLS   Adj. R-squared (uncentered):              0.892\n",
            "Method:                 Least Squares   F-statistic:                              1003.\n",
            "Date:                Sun, 31 Mar 2024   Prob (F-statistic):                        0.00\n",
            "Time:                        08:55:22   Log-Likelihood:                         -18132.\n",
            "No. Observations:                2058   AIC:                                  3.630e+04\n",
            "Df Residuals:                    2041   BIC:                                  3.639e+04\n",
            "Df Model:                          17                                                  \n",
            "Covariance Type:            nonrobust                                                  \n",
            "=====================================================================================================\n",
            "                                        coef    std err          t      P>|t|      [0.025      0.975]\n",
            "-----------------------------------------------------------------------------------------------------\n",
            "quotes                                1.4110      0.182      7.759      0.000       1.054       1.768\n",
            "replies                               0.1612      0.077      2.093      0.037       0.010       0.312\n",
            "retweets                             -6.7030      0.087    -77.395      0.000      -6.873      -6.533\n",
            "followers                          8.273e-05   3.71e-05      2.227      0.026    9.88e-06       0.000\n",
            "following                            -0.0018      0.001     -1.692      0.091      -0.004       0.000\n",
            "polarity                           -787.2831    422.280     -1.864      0.062   -1615.427      40.861\n",
            "subjectivity                        199.7662    138.351      1.444      0.149     -71.558     471.091\n",
            "emoji_count                          26.0141      9.825      2.648      0.008       6.746      45.282\n",
            "category_dummy                       -8.3485     78.947     -0.106      0.916    -163.173     146.476\n",
            "emoticon_count                       51.7399     67.443      0.767      0.443     -80.524     184.003\n",
            "emoticon_polarity_interaction       174.2354    204.432      0.852      0.394    -226.682     575.153\n",
            "subjectivity_polarity_interaction   -91.4113    448.662     -0.204      0.839    -971.295     788.473\n",
            "replies_polarity_interaction         -0.1941      0.205     -0.949      0.343      -0.595       0.207\n",
            "followers_retweets_interaction      4.61e-06   5.03e-08     91.640      0.000    4.51e-06    4.71e-06\n",
            "polarity_brand_T-Mobile             398.7208    155.002      2.572      0.010      94.743     702.699\n",
            "polarity_brand_Target               533.2555    167.830      3.177      0.002     204.119     862.392\n",
            "polarity_brand_americanair          419.6150    164.417      2.552      0.011      97.172     742.058\n",
            "polarity_brand_T-Mobile             398.7208    155.002      2.572      0.010      94.743     702.699\n",
            "polarity_brand_Target               533.2555    167.830      3.177      0.002     204.119     862.392\n",
            "polarity_brand_americanair          419.6150    164.417      2.552      0.011      97.172     742.058\n",
            "==============================================================================\n",
            "Omnibus:                     2972.271   Durbin-Watson:                   2.024\n",
            "Prob(Omnibus):                  0.000   Jarque-Bera (JB):          3458387.654\n",
            "Skew:                           7.857   Prob(JB):                         0.00\n",
            "Kurtosis:                     203.210   Cond. No.                     1.91e+26\n",
            "==============================================================================\n",
            "\n",
            "Notes:\n",
            "[1] R² is computed without centering (uncentered) since the model does not contain a constant.\n",
            "[2] Standard Errors assume that the covariance matrix of the errors is correctly specified.\n",
            "[3] The smallest eigenvalue is 8.58e-31. This might indicate that there are\n",
            "strong multicollinearity problems or that the design matrix is singular.\n"
          ]
        }
      ],
      "source": [
        "# Create dummy variables manually for the 'brand' column\n",
        "brand_dummies = pd.get_dummies(tweets_data_brand['brand'], prefix='brand')\n",
        "# Drop brand column\n",
        "tweets_data_brand = tweets_data_brand.drop('brand', axis=1)\n",
        "\n",
        "# Select a reference category manually and drop it from the dummies\n",
        "# Let's say 'Coca-Cola' is the reference brand, so we drop its dummy variable\n",
        "brand_dummies = brand_dummies.drop(['brand_Coca-Cola'], axis=1)\n",
        "\n",
        "# Now, let's interact 'polarity' with each brand dummy\n",
        "for brand in brand_dummies:\n",
        "    tweets_data_brand[f'polarity_{brand}'] = tweets_data_brand['polarity'] * brand_dummies[brand]\n",
        "\n",
        "# Your predictors X now should include these dummy variables\n",
        "# Assuming 'X' already includes your other predictors\n",
        "target = 'likes'\n",
        "X_brand_likes = tweets_data_brand.drop(target, axis = 1)\n",
        "X_brand_likes = pd.concat([X_brand_likes, tweets_data_brand.filter(like='polarity_brand')], axis=1)  # Add interaction terms\n",
        "y_brand_likes = tweets_data_brand[target]\n",
        "\n",
        "# Adding a constant for the intercept\n",
        "X_brand = sm.add_constant(X_brand_likes)\n",
        "\n",
        "model_brand_likes = sm.OLS(y_brand_likes, X_brand_likes).fit()\n",
        "\n",
        "# Display the results\n",
        "print(model_brand_likes.summary())\n"
      ]
    },
    {
      "cell_type": "markdown",
      "metadata": {
        "id": "pJ_x8qRlfHXa"
      },
      "source": [
        "How did we analyse cross-brand differences?"
      ]
    },
    {
      "cell_type": "markdown",
      "metadata": {
        "id": "EfgJd4ZLe-WM"
      },
      "source": [
        "To include 'brand' as a categorical predictor in the regression model, dummy variables were created for each level of the 'brand' variable except for one, which serves as the reference category. In this case, Coca-Cola was chosen as the reference brand since its dummy variable is not present in the regression output. In our case, having four brands (Coca-Cola, T-Mobile, Target, and American Airlines), we created three dummy variables (one for each brand except Coca-Cola). Each tweet is marked with a 1 for its respective brand dummy variable and 0 for the others. In the regression model, the coefficients for these dummies represent the difference in the expected number of likes for tweets from T-Mobile, Target, and American Airlines as compared to Coca-Cola."
      ]
    },
    {
      "cell_type": "markdown",
      "metadata": {
        "id": "oOjCVlWjffAJ"
      },
      "source": [
        "On top of that, we decided to create interaction variables between polarity and the different brands. The coefficients for the interaction terms between 'polarity' and the brand dummy variables (e.g., polarity_brand_T-Mobile) show the additional effect of polarity on likes for each brand relative to the reference brand (Coca-Cola).\n",
        "\n",
        "- 'polarity_brand_T-Mobile': The positive coefficient indicates that for T-Mobile, the effect of sentiment polarity on the number of likes is more substantial compared to Coca-Cola. A more positive sentiment could lead to a larger increase in likes for T-Mobile than for Coca-Cola.\n",
        "\n",
        "- 'polarity_brand_Target': Similarly, the positive coefficient for Target suggests that positive sentiment polarity also has a stronger impact on likes for Target compared to Coca-Cola.\n",
        "\n",
        "- 'polarity_brand_Americanair': The same interpretation applies to American Airlines; positive sentiment polarity on tweets results in a greater number of likes compared to Coca-Cola."
      ]
    },
    {
      "cell_type": "markdown",
      "metadata": {
        "id": "Wqt-6t8cgLnA"
      },
      "source": [
        "T-Mobile, Target, American Airlines: For these brands, maintaining a positive sentiment in tweets may be even more crucial than for Coca-Cola. Marketing campaigns and social media strategies should focus on crafting content with positive messaging. Coca-Cola's strategy could be focused on other aspects of the brand or on messaging that does not rely as heavily on sentiment for engagement."
      ]
    },
    {
      "cell_type": "markdown",
      "metadata": {
        "id": "TZYDHqGGgi5X"
      },
      "source": [
        "### Point 6d"
      ]
    },
    {
      "cell_type": "markdown",
      "metadata": {
        "id": "8FaZdqkViMZW"
      },
      "source": [
        "We can clearly see that there are some elements that have an impact on likes outcome while having no/or little effect the replies outcome:\n",
        "\n",
        "**Elements impacting likes but not replies:**\n",
        "- Emoji Count: Positively impacts the number of likes a tweet receives, suggesting visual appeal boosts likability. However, it doesn't have the same effect on generating replies.\n",
        "\n",
        "**Elements impacting replies but not likes:**\n",
        "- Subjectivity: Positively influences the number of replies, indicating that personal or emotional content invites conversation. This element doesn't significantly affect likes.\n",
        "- Emoticon polarity interaction: Shows a significant relationship with replies, suggesting that the combination of sentiment and emoticon use prompts users to respond. This interaction does not significantly affect likes.\n",
        "\n",
        "These differences highlight how distinct elements of tweet content can encourage specific types of engagement, with emojis making tweets more likable, while subjectivity and emoticons combined with sentiment seem to invite more replies. In contrast, retweets and quotes appear to stimulate likes more than they do conversations."
      ]
    },
    {
      "cell_type": "markdown",
      "metadata": {
        "id": "c3q1FYpPjCTV"
      },
      "source": [
        "## Point 7"
      ]
    },
    {
      "cell_type": "markdown",
      "metadata": {
        "id": "WSc1Vi48j85k"
      },
      "source": [
        "At the end of the extensive analysis that we carried out in this assignement, we were able to draft the following strategic marketing communication takaways for these brand-companies:"
      ]
    },
    {
      "cell_type": "markdown",
      "metadata": {
        "id": "3fjbyiWUjWTu"
      },
      "source": [
        "1.  Emojis significantly increase the likelihood of a tweet being liked. Incorporate them strategically to enhance the visual appeal and emotional connection of your tweets.\n",
        "\n",
        "2.  Tweets that express opinions or emotions are more likely to receive replies. Craft messages that invite discussion to foster community engagement.\n",
        "\n",
        "3.   Including relatable or impactful quotes in tweets can boost likes. Use memorable phrases or soundbites that align with brand messaging and resonate with the audience.\n",
        "\n",
        "4. Recognize that the impact of sentiment on engagement varies by brand; tailor content to reflect brand-specific audience preferences, using sentiment analysis to guide the tone of communication.\n",
        "\n",
        "5. Retweets may not directly translate into likes and can have an inverse relationship; focus on creating content that is not only shareable but also encourages positive engagement in the form of likes."
      ]
    }
  ],
  "metadata": {
    "colab": {
      "provenance": [],
      "toc_visible": true
    },
    "kernelspec": {
      "display_name": "Python 3",
      "name": "python3"
    },
    "language_info": {
      "codemirror_mode": {
        "name": "ipython",
        "version": 3
      },
      "file_extension": ".py",
      "mimetype": "text/x-python",
      "name": "python",
      "nbconvert_exporter": "python",
      "pygments_lexer": "ipython3",
      "version": "3.11.8"
    },
    "widgets": {
      "application/vnd.jupyter.widget-state+json": {
        "03ea66a13b184ddc85764ce932a38fb3": {
          "model_module": "@jupyter-widgets/controls",
          "model_module_version": "1.5.0",
          "model_name": "ProgressStyleModel",
          "state": {
            "_model_module": "@jupyter-widgets/controls",
            "_model_module_version": "1.5.0",
            "_model_name": "ProgressStyleModel",
            "_view_count": null,
            "_view_module": "@jupyter-widgets/base",
            "_view_module_version": "1.2.0",
            "_view_name": "StyleView",
            "bar_color": null,
            "description_width": ""
          }
        },
        "04dd902287614e15a9277800eb6cede5": {
          "model_module": "@jupyter-widgets/controls",
          "model_module_version": "1.5.0",
          "model_name": "DescriptionStyleModel",
          "state": {
            "_model_module": "@jupyter-widgets/controls",
            "_model_module_version": "1.5.0",
            "_model_name": "DescriptionStyleModel",
            "_view_count": null,
            "_view_module": "@jupyter-widgets/base",
            "_view_module_version": "1.2.0",
            "_view_name": "StyleView",
            "description_width": ""
          }
        },
        "0dfaac9e087d42d19b98639e205f5dc0": {
          "model_module": "@jupyter-widgets/base",
          "model_module_version": "1.2.0",
          "model_name": "LayoutModel",
          "state": {
            "_model_module": "@jupyter-widgets/base",
            "_model_module_version": "1.2.0",
            "_model_name": "LayoutModel",
            "_view_count": null,
            "_view_module": "@jupyter-widgets/base",
            "_view_module_version": "1.2.0",
            "_view_name": "LayoutView",
            "align_content": null,
            "align_items": null,
            "align_self": null,
            "border": null,
            "bottom": null,
            "display": null,
            "flex": null,
            "flex_flow": null,
            "grid_area": null,
            "grid_auto_columns": null,
            "grid_auto_flow": null,
            "grid_auto_rows": null,
            "grid_column": null,
            "grid_gap": null,
            "grid_row": null,
            "grid_template_areas": null,
            "grid_template_columns": null,
            "grid_template_rows": null,
            "height": null,
            "justify_content": null,
            "justify_items": null,
            "left": null,
            "margin": null,
            "max_height": null,
            "max_width": null,
            "min_height": null,
            "min_width": null,
            "object_fit": null,
            "object_position": null,
            "order": null,
            "overflow": null,
            "overflow_x": null,
            "overflow_y": null,
            "padding": null,
            "right": null,
            "top": null,
            "visibility": null,
            "width": null
          }
        },
        "1165a98582d145bc841091ea1ae1ff97": {
          "model_module": "@jupyter-widgets/controls",
          "model_module_version": "1.5.0",
          "model_name": "DescriptionStyleModel",
          "state": {
            "_model_module": "@jupyter-widgets/controls",
            "_model_module_version": "1.5.0",
            "_model_name": "DescriptionStyleModel",
            "_view_count": null,
            "_view_module": "@jupyter-widgets/base",
            "_view_module_version": "1.2.0",
            "_view_name": "StyleView",
            "description_width": ""
          }
        },
        "175c3c2adec64354983674cde2f4a42d": {
          "model_module": "@jupyter-widgets/base",
          "model_module_version": "1.2.0",
          "model_name": "LayoutModel",
          "state": {
            "_model_module": "@jupyter-widgets/base",
            "_model_module_version": "1.2.0",
            "_model_name": "LayoutModel",
            "_view_count": null,
            "_view_module": "@jupyter-widgets/base",
            "_view_module_version": "1.2.0",
            "_view_name": "LayoutView",
            "align_content": null,
            "align_items": null,
            "align_self": null,
            "border": null,
            "bottom": null,
            "display": null,
            "flex": null,
            "flex_flow": null,
            "grid_area": null,
            "grid_auto_columns": null,
            "grid_auto_flow": null,
            "grid_auto_rows": null,
            "grid_column": null,
            "grid_gap": null,
            "grid_row": null,
            "grid_template_areas": null,
            "grid_template_columns": null,
            "grid_template_rows": null,
            "height": null,
            "justify_content": null,
            "justify_items": null,
            "left": null,
            "margin": null,
            "max_height": null,
            "max_width": null,
            "min_height": null,
            "min_width": null,
            "object_fit": null,
            "object_position": null,
            "order": null,
            "overflow": null,
            "overflow_x": null,
            "overflow_y": null,
            "padding": null,
            "right": null,
            "top": null,
            "visibility": null,
            "width": null
          }
        },
        "1dbcddca742c44149ebdf2aec21d32ed": {
          "model_module": "@jupyter-widgets/base",
          "model_module_version": "1.2.0",
          "model_name": "LayoutModel",
          "state": {
            "_model_module": "@jupyter-widgets/base",
            "_model_module_version": "1.2.0",
            "_model_name": "LayoutModel",
            "_view_count": null,
            "_view_module": "@jupyter-widgets/base",
            "_view_module_version": "1.2.0",
            "_view_name": "LayoutView",
            "align_content": null,
            "align_items": null,
            "align_self": null,
            "border": null,
            "bottom": null,
            "display": null,
            "flex": null,
            "flex_flow": null,
            "grid_area": null,
            "grid_auto_columns": null,
            "grid_auto_flow": null,
            "grid_auto_rows": null,
            "grid_column": null,
            "grid_gap": null,
            "grid_row": null,
            "grid_template_areas": null,
            "grid_template_columns": null,
            "grid_template_rows": null,
            "height": null,
            "justify_content": null,
            "justify_items": null,
            "left": null,
            "margin": null,
            "max_height": null,
            "max_width": null,
            "min_height": null,
            "min_width": null,
            "object_fit": null,
            "object_position": null,
            "order": null,
            "overflow": null,
            "overflow_x": null,
            "overflow_y": null,
            "padding": null,
            "right": null,
            "top": null,
            "visibility": null,
            "width": null
          }
        },
        "21ee7e8041414698ac811b602c5d7291": {
          "model_module": "@jupyter-widgets/controls",
          "model_module_version": "1.5.0",
          "model_name": "HTMLModel",
          "state": {
            "_dom_classes": [],
            "_model_module": "@jupyter-widgets/controls",
            "_model_module_version": "1.5.0",
            "_model_name": "HTMLModel",
            "_view_count": null,
            "_view_module": "@jupyter-widgets/controls",
            "_view_module_version": "1.5.0",
            "_view_name": "HTMLView",
            "description": "",
            "description_tooltip": null,
            "layout": "IPY_MODEL_2cb15f7d1b0f407b82e2441f160a8f46",
            "placeholder": "​",
            "style": "IPY_MODEL_62b11067323b45c3ab03f96df2321d78",
            "value": " 48.0/48.0 [00:00&lt;00:00, 933B/s]"
          }
        },
        "261162e97b204b6e9e849137cd970071": {
          "model_module": "@jupyter-widgets/controls",
          "model_module_version": "1.5.0",
          "model_name": "DescriptionStyleModel",
          "state": {
            "_model_module": "@jupyter-widgets/controls",
            "_model_module_version": "1.5.0",
            "_model_name": "DescriptionStyleModel",
            "_view_count": null,
            "_view_module": "@jupyter-widgets/base",
            "_view_module_version": "1.2.0",
            "_view_name": "StyleView",
            "description_width": ""
          }
        },
        "26f274bdbaaf473489a6933106acc697": {
          "model_module": "@jupyter-widgets/base",
          "model_module_version": "1.2.0",
          "model_name": "LayoutModel",
          "state": {
            "_model_module": "@jupyter-widgets/base",
            "_model_module_version": "1.2.0",
            "_model_name": "LayoutModel",
            "_view_count": null,
            "_view_module": "@jupyter-widgets/base",
            "_view_module_version": "1.2.0",
            "_view_name": "LayoutView",
            "align_content": null,
            "align_items": null,
            "align_self": null,
            "border": null,
            "bottom": null,
            "display": null,
            "flex": null,
            "flex_flow": null,
            "grid_area": null,
            "grid_auto_columns": null,
            "grid_auto_flow": null,
            "grid_auto_rows": null,
            "grid_column": null,
            "grid_gap": null,
            "grid_row": null,
            "grid_template_areas": null,
            "grid_template_columns": null,
            "grid_template_rows": null,
            "height": null,
            "justify_content": null,
            "justify_items": null,
            "left": null,
            "margin": null,
            "max_height": null,
            "max_width": null,
            "min_height": null,
            "min_width": null,
            "object_fit": null,
            "object_position": null,
            "order": null,
            "overflow": null,
            "overflow_x": null,
            "overflow_y": null,
            "padding": null,
            "right": null,
            "top": null,
            "visibility": null,
            "width": null
          }
        },
        "28b6b32b38fe473ab4ae24b0ba46bba9": {
          "model_module": "@jupyter-widgets/controls",
          "model_module_version": "1.5.0",
          "model_name": "HTMLModel",
          "state": {
            "_dom_classes": [],
            "_model_module": "@jupyter-widgets/controls",
            "_model_module_version": "1.5.0",
            "_model_name": "HTMLModel",
            "_view_count": null,
            "_view_module": "@jupyter-widgets/controls",
            "_view_module_version": "1.5.0",
            "_view_name": "HTMLView",
            "description": "",
            "description_tooltip": null,
            "layout": "IPY_MODEL_4a7d7b74c0b24dd29f892f83106c67d9",
            "placeholder": "​",
            "style": "IPY_MODEL_1165a98582d145bc841091ea1ae1ff97",
            "value": "vocab.txt: 100%"
          }
        },
        "2cb15f7d1b0f407b82e2441f160a8f46": {
          "model_module": "@jupyter-widgets/base",
          "model_module_version": "1.2.0",
          "model_name": "LayoutModel",
          "state": {
            "_model_module": "@jupyter-widgets/base",
            "_model_module_version": "1.2.0",
            "_model_name": "LayoutModel",
            "_view_count": null,
            "_view_module": "@jupyter-widgets/base",
            "_view_module_version": "1.2.0",
            "_view_name": "LayoutView",
            "align_content": null,
            "align_items": null,
            "align_self": null,
            "border": null,
            "bottom": null,
            "display": null,
            "flex": null,
            "flex_flow": null,
            "grid_area": null,
            "grid_auto_columns": null,
            "grid_auto_flow": null,
            "grid_auto_rows": null,
            "grid_column": null,
            "grid_gap": null,
            "grid_row": null,
            "grid_template_areas": null,
            "grid_template_columns": null,
            "grid_template_rows": null,
            "height": null,
            "justify_content": null,
            "justify_items": null,
            "left": null,
            "margin": null,
            "max_height": null,
            "max_width": null,
            "min_height": null,
            "min_width": null,
            "object_fit": null,
            "object_position": null,
            "order": null,
            "overflow": null,
            "overflow_x": null,
            "overflow_y": null,
            "padding": null,
            "right": null,
            "top": null,
            "visibility": null,
            "width": null
          }
        },
        "3ba5dd477c1044db86119de243788da4": {
          "model_module": "@jupyter-widgets/controls",
          "model_module_version": "1.5.0",
          "model_name": "ProgressStyleModel",
          "state": {
            "_model_module": "@jupyter-widgets/controls",
            "_model_module_version": "1.5.0",
            "_model_name": "ProgressStyleModel",
            "_view_count": null,
            "_view_module": "@jupyter-widgets/base",
            "_view_module_version": "1.2.0",
            "_view_name": "StyleView",
            "bar_color": null,
            "description_width": ""
          }
        },
        "3fcca5ea077a415ea91ebf771928356a": {
          "model_module": "@jupyter-widgets/controls",
          "model_module_version": "1.5.0",
          "model_name": "HTMLModel",
          "state": {
            "_dom_classes": [],
            "_model_module": "@jupyter-widgets/controls",
            "_model_module_version": "1.5.0",
            "_model_name": "HTMLModel",
            "_view_count": null,
            "_view_module": "@jupyter-widgets/controls",
            "_view_module_version": "1.5.0",
            "_view_name": "HTMLView",
            "description": "",
            "description_tooltip": null,
            "layout": "IPY_MODEL_26f274bdbaaf473489a6933106acc697",
            "placeholder": "​",
            "style": "IPY_MODEL_c8ac101405e1402c85d603f15ea26c43",
            "value": " 232k/232k [00:00&lt;00:00, 2.09MB/s]"
          }
        },
        "4a7d7b74c0b24dd29f892f83106c67d9": {
          "model_module": "@jupyter-widgets/base",
          "model_module_version": "1.2.0",
          "model_name": "LayoutModel",
          "state": {
            "_model_module": "@jupyter-widgets/base",
            "_model_module_version": "1.2.0",
            "_model_name": "LayoutModel",
            "_view_count": null,
            "_view_module": "@jupyter-widgets/base",
            "_view_module_version": "1.2.0",
            "_view_name": "LayoutView",
            "align_content": null,
            "align_items": null,
            "align_self": null,
            "border": null,
            "bottom": null,
            "display": null,
            "flex": null,
            "flex_flow": null,
            "grid_area": null,
            "grid_auto_columns": null,
            "grid_auto_flow": null,
            "grid_auto_rows": null,
            "grid_column": null,
            "grid_gap": null,
            "grid_row": null,
            "grid_template_areas": null,
            "grid_template_columns": null,
            "grid_template_rows": null,
            "height": null,
            "justify_content": null,
            "justify_items": null,
            "left": null,
            "margin": null,
            "max_height": null,
            "max_width": null,
            "min_height": null,
            "min_width": null,
            "object_fit": null,
            "object_position": null,
            "order": null,
            "overflow": null,
            "overflow_x": null,
            "overflow_y": null,
            "padding": null,
            "right": null,
            "top": null,
            "visibility": null,
            "width": null
          }
        },
        "51acf48319b84322911652e2a390822b": {
          "model_module": "@jupyter-widgets/controls",
          "model_module_version": "1.5.0",
          "model_name": "FloatProgressModel",
          "state": {
            "_dom_classes": [],
            "_model_module": "@jupyter-widgets/controls",
            "_model_module_version": "1.5.0",
            "_model_name": "FloatProgressModel",
            "_view_count": null,
            "_view_module": "@jupyter-widgets/controls",
            "_view_module_version": "1.5.0",
            "_view_name": "ProgressView",
            "bar_style": "success",
            "description": "",
            "description_tooltip": null,
            "layout": "IPY_MODEL_1dbcddca742c44149ebdf2aec21d32ed",
            "max": 48,
            "min": 0,
            "orientation": "horizontal",
            "style": "IPY_MODEL_3ba5dd477c1044db86119de243788da4",
            "value": 48
          }
        },
        "59ae36797c7c4dad930130b2bba43307": {
          "model_module": "@jupyter-widgets/controls",
          "model_module_version": "1.5.0",
          "model_name": "DescriptionStyleModel",
          "state": {
            "_model_module": "@jupyter-widgets/controls",
            "_model_module_version": "1.5.0",
            "_model_name": "DescriptionStyleModel",
            "_view_count": null,
            "_view_module": "@jupyter-widgets/base",
            "_view_module_version": "1.2.0",
            "_view_name": "StyleView",
            "description_width": ""
          }
        },
        "62b11067323b45c3ab03f96df2321d78": {
          "model_module": "@jupyter-widgets/controls",
          "model_module_version": "1.5.0",
          "model_name": "DescriptionStyleModel",
          "state": {
            "_model_module": "@jupyter-widgets/controls",
            "_model_module_version": "1.5.0",
            "_model_name": "DescriptionStyleModel",
            "_view_count": null,
            "_view_module": "@jupyter-widgets/base",
            "_view_module_version": "1.2.0",
            "_view_name": "StyleView",
            "description_width": ""
          }
        },
        "6e654fc449664f23a9b797def6412f55": {
          "model_module": "@jupyter-widgets/controls",
          "model_module_version": "1.5.0",
          "model_name": "HBoxModel",
          "state": {
            "_dom_classes": [],
            "_model_module": "@jupyter-widgets/controls",
            "_model_module_version": "1.5.0",
            "_model_name": "HBoxModel",
            "_view_count": null,
            "_view_module": "@jupyter-widgets/controls",
            "_view_module_version": "1.5.0",
            "_view_name": "HBoxView",
            "box_style": "",
            "children": [
              "IPY_MODEL_acddd2a1a4274470af202e1924eaf1f4",
              "IPY_MODEL_51acf48319b84322911652e2a390822b",
              "IPY_MODEL_21ee7e8041414698ac811b602c5d7291"
            ],
            "layout": "IPY_MODEL_fa657bf98e2446b98d63e5a2b71f1fe1"
          }
        },
        "6eaac1b66c8944b2881570508f63abfc": {
          "model_module": "@jupyter-widgets/controls",
          "model_module_version": "1.5.0",
          "model_name": "ProgressStyleModel",
          "state": {
            "_model_module": "@jupyter-widgets/controls",
            "_model_module_version": "1.5.0",
            "_model_name": "ProgressStyleModel",
            "_view_count": null,
            "_view_module": "@jupyter-widgets/base",
            "_view_module_version": "1.2.0",
            "_view_name": "StyleView",
            "bar_color": null,
            "description_width": ""
          }
        },
        "700918e9d065478a80ece0d35835da8c": {
          "model_module": "@jupyter-widgets/controls",
          "model_module_version": "1.5.0",
          "model_name": "DescriptionStyleModel",
          "state": {
            "_model_module": "@jupyter-widgets/controls",
            "_model_module_version": "1.5.0",
            "_model_name": "DescriptionStyleModel",
            "_view_count": null,
            "_view_module": "@jupyter-widgets/base",
            "_view_module_version": "1.2.0",
            "_view_name": "StyleView",
            "description_width": ""
          }
        },
        "7b0c2fda233048cdbe437e69b1420dfa": {
          "model_module": "@jupyter-widgets/controls",
          "model_module_version": "1.5.0",
          "model_name": "DescriptionStyleModel",
          "state": {
            "_model_module": "@jupyter-widgets/controls",
            "_model_module_version": "1.5.0",
            "_model_name": "DescriptionStyleModel",
            "_view_count": null,
            "_view_module": "@jupyter-widgets/base",
            "_view_module_version": "1.2.0",
            "_view_name": "StyleView",
            "description_width": ""
          }
        },
        "808e55fe77ff463eacf33ed78b7e36bc": {
          "model_module": "@jupyter-widgets/base",
          "model_module_version": "1.2.0",
          "model_name": "LayoutModel",
          "state": {
            "_model_module": "@jupyter-widgets/base",
            "_model_module_version": "1.2.0",
            "_model_name": "LayoutModel",
            "_view_count": null,
            "_view_module": "@jupyter-widgets/base",
            "_view_module_version": "1.2.0",
            "_view_name": "LayoutView",
            "align_content": null,
            "align_items": null,
            "align_self": null,
            "border": null,
            "bottom": null,
            "display": null,
            "flex": null,
            "flex_flow": null,
            "grid_area": null,
            "grid_auto_columns": null,
            "grid_auto_flow": null,
            "grid_auto_rows": null,
            "grid_column": null,
            "grid_gap": null,
            "grid_row": null,
            "grid_template_areas": null,
            "grid_template_columns": null,
            "grid_template_rows": null,
            "height": null,
            "justify_content": null,
            "justify_items": null,
            "left": null,
            "margin": null,
            "max_height": null,
            "max_width": null,
            "min_height": null,
            "min_width": null,
            "object_fit": null,
            "object_position": null,
            "order": null,
            "overflow": null,
            "overflow_x": null,
            "overflow_y": null,
            "padding": null,
            "right": null,
            "top": null,
            "visibility": null,
            "width": null
          }
        },
        "819cb0d0299946a49b674f384b0bdda0": {
          "model_module": "@jupyter-widgets/controls",
          "model_module_version": "1.5.0",
          "model_name": "FloatProgressModel",
          "state": {
            "_dom_classes": [],
            "_model_module": "@jupyter-widgets/controls",
            "_model_module_version": "1.5.0",
            "_model_name": "FloatProgressModel",
            "_view_count": null,
            "_view_module": "@jupyter-widgets/controls",
            "_view_module_version": "1.5.0",
            "_view_name": "ProgressView",
            "bar_style": "success",
            "description": "",
            "description_tooltip": null,
            "layout": "IPY_MODEL_96c0cc99da0f4b6c95d633316410583f",
            "max": 267832558,
            "min": 0,
            "orientation": "horizontal",
            "style": "IPY_MODEL_8858d417cad848d0babca82731ac1fb6",
            "value": 267832558
          }
        },
        "8858d417cad848d0babca82731ac1fb6": {
          "model_module": "@jupyter-widgets/controls",
          "model_module_version": "1.5.0",
          "model_name": "ProgressStyleModel",
          "state": {
            "_model_module": "@jupyter-widgets/controls",
            "_model_module_version": "1.5.0",
            "_model_name": "ProgressStyleModel",
            "_view_count": null,
            "_view_module": "@jupyter-widgets/base",
            "_view_module_version": "1.2.0",
            "_view_name": "StyleView",
            "bar_color": null,
            "description_width": ""
          }
        },
        "8869eefea91e48a6a3738d5bff9d51f4": {
          "model_module": "@jupyter-widgets/controls",
          "model_module_version": "1.5.0",
          "model_name": "HTMLModel",
          "state": {
            "_dom_classes": [],
            "_model_module": "@jupyter-widgets/controls",
            "_model_module_version": "1.5.0",
            "_model_name": "HTMLModel",
            "_view_count": null,
            "_view_module": "@jupyter-widgets/controls",
            "_view_module_version": "1.5.0",
            "_view_name": "HTMLView",
            "description": "",
            "description_tooltip": null,
            "layout": "IPY_MODEL_92c88b6909fb49d496d83fdcae6d9022",
            "placeholder": "​",
            "style": "IPY_MODEL_261162e97b204b6e9e849137cd970071",
            "value": " 629/629 [00:00&lt;00:00, 12.7kB/s]"
          }
        },
        "8cff11ccf1044c8aa8f07914602f6a76": {
          "model_module": "@jupyter-widgets/controls",
          "model_module_version": "1.5.0",
          "model_name": "HTMLModel",
          "state": {
            "_dom_classes": [],
            "_model_module": "@jupyter-widgets/controls",
            "_model_module_version": "1.5.0",
            "_model_name": "HTMLModel",
            "_view_count": null,
            "_view_module": "@jupyter-widgets/controls",
            "_view_module_version": "1.5.0",
            "_view_name": "HTMLView",
            "description": "",
            "description_tooltip": null,
            "layout": "IPY_MODEL_d135b450639c49e6aec61626f3fb6516",
            "placeholder": "​",
            "style": "IPY_MODEL_7b0c2fda233048cdbe437e69b1420dfa",
            "value": " 268M/268M [00:04&lt;00:00, 57.9MB/s]"
          }
        },
        "8e61b61135a7451b93d2a4121813f40e": {
          "model_module": "@jupyter-widgets/controls",
          "model_module_version": "1.5.0",
          "model_name": "HTMLModel",
          "state": {
            "_dom_classes": [],
            "_model_module": "@jupyter-widgets/controls",
            "_model_module_version": "1.5.0",
            "_model_name": "HTMLModel",
            "_view_count": null,
            "_view_module": "@jupyter-widgets/controls",
            "_view_module_version": "1.5.0",
            "_view_name": "HTMLView",
            "description": "",
            "description_tooltip": null,
            "layout": "IPY_MODEL_d2c9297d33dc4435af13be4bc78ecddf",
            "placeholder": "​",
            "style": "IPY_MODEL_04dd902287614e15a9277800eb6cede5",
            "value": "model.safetensors: 100%"
          }
        },
        "910bc088a2694cf481d84948471dfc80": {
          "model_module": "@jupyter-widgets/base",
          "model_module_version": "1.2.0",
          "model_name": "LayoutModel",
          "state": {
            "_model_module": "@jupyter-widgets/base",
            "_model_module_version": "1.2.0",
            "_model_name": "LayoutModel",
            "_view_count": null,
            "_view_module": "@jupyter-widgets/base",
            "_view_module_version": "1.2.0",
            "_view_name": "LayoutView",
            "align_content": null,
            "align_items": null,
            "align_self": null,
            "border": null,
            "bottom": null,
            "display": null,
            "flex": null,
            "flex_flow": null,
            "grid_area": null,
            "grid_auto_columns": null,
            "grid_auto_flow": null,
            "grid_auto_rows": null,
            "grid_column": null,
            "grid_gap": null,
            "grid_row": null,
            "grid_template_areas": null,
            "grid_template_columns": null,
            "grid_template_rows": null,
            "height": null,
            "justify_content": null,
            "justify_items": null,
            "left": null,
            "margin": null,
            "max_height": null,
            "max_width": null,
            "min_height": null,
            "min_width": null,
            "object_fit": null,
            "object_position": null,
            "order": null,
            "overflow": null,
            "overflow_x": null,
            "overflow_y": null,
            "padding": null,
            "right": null,
            "top": null,
            "visibility": null,
            "width": null
          }
        },
        "92c88b6909fb49d496d83fdcae6d9022": {
          "model_module": "@jupyter-widgets/base",
          "model_module_version": "1.2.0",
          "model_name": "LayoutModel",
          "state": {
            "_model_module": "@jupyter-widgets/base",
            "_model_module_version": "1.2.0",
            "_model_name": "LayoutModel",
            "_view_count": null,
            "_view_module": "@jupyter-widgets/base",
            "_view_module_version": "1.2.0",
            "_view_name": "LayoutView",
            "align_content": null,
            "align_items": null,
            "align_self": null,
            "border": null,
            "bottom": null,
            "display": null,
            "flex": null,
            "flex_flow": null,
            "grid_area": null,
            "grid_auto_columns": null,
            "grid_auto_flow": null,
            "grid_auto_rows": null,
            "grid_column": null,
            "grid_gap": null,
            "grid_row": null,
            "grid_template_areas": null,
            "grid_template_columns": null,
            "grid_template_rows": null,
            "height": null,
            "justify_content": null,
            "justify_items": null,
            "left": null,
            "margin": null,
            "max_height": null,
            "max_width": null,
            "min_height": null,
            "min_width": null,
            "object_fit": null,
            "object_position": null,
            "order": null,
            "overflow": null,
            "overflow_x": null,
            "overflow_y": null,
            "padding": null,
            "right": null,
            "top": null,
            "visibility": null,
            "width": null
          }
        },
        "96c0cc99da0f4b6c95d633316410583f": {
          "model_module": "@jupyter-widgets/base",
          "model_module_version": "1.2.0",
          "model_name": "LayoutModel",
          "state": {
            "_model_module": "@jupyter-widgets/base",
            "_model_module_version": "1.2.0",
            "_model_name": "LayoutModel",
            "_view_count": null,
            "_view_module": "@jupyter-widgets/base",
            "_view_module_version": "1.2.0",
            "_view_name": "LayoutView",
            "align_content": null,
            "align_items": null,
            "align_self": null,
            "border": null,
            "bottom": null,
            "display": null,
            "flex": null,
            "flex_flow": null,
            "grid_area": null,
            "grid_auto_columns": null,
            "grid_auto_flow": null,
            "grid_auto_rows": null,
            "grid_column": null,
            "grid_gap": null,
            "grid_row": null,
            "grid_template_areas": null,
            "grid_template_columns": null,
            "grid_template_rows": null,
            "height": null,
            "justify_content": null,
            "justify_items": null,
            "left": null,
            "margin": null,
            "max_height": null,
            "max_width": null,
            "min_height": null,
            "min_width": null,
            "object_fit": null,
            "object_position": null,
            "order": null,
            "overflow": null,
            "overflow_x": null,
            "overflow_y": null,
            "padding": null,
            "right": null,
            "top": null,
            "visibility": null,
            "width": null
          }
        },
        "acddd2a1a4274470af202e1924eaf1f4": {
          "model_module": "@jupyter-widgets/controls",
          "model_module_version": "1.5.0",
          "model_name": "HTMLModel",
          "state": {
            "_dom_classes": [],
            "_model_module": "@jupyter-widgets/controls",
            "_model_module_version": "1.5.0",
            "_model_name": "HTMLModel",
            "_view_count": null,
            "_view_module": "@jupyter-widgets/controls",
            "_view_module_version": "1.5.0",
            "_view_name": "HTMLView",
            "description": "",
            "description_tooltip": null,
            "layout": "IPY_MODEL_175c3c2adec64354983674cde2f4a42d",
            "placeholder": "​",
            "style": "IPY_MODEL_700918e9d065478a80ece0d35835da8c",
            "value": "tokenizer_config.json: 100%"
          }
        },
        "bd49bc00110c4c3592c615904b4bf6c1": {
          "model_module": "@jupyter-widgets/controls",
          "model_module_version": "1.5.0",
          "model_name": "HBoxModel",
          "state": {
            "_dom_classes": [],
            "_model_module": "@jupyter-widgets/controls",
            "_model_module_version": "1.5.0",
            "_model_name": "HBoxModel",
            "_view_count": null,
            "_view_module": "@jupyter-widgets/controls",
            "_view_module_version": "1.5.0",
            "_view_name": "HBoxView",
            "box_style": "",
            "children": [
              "IPY_MODEL_8e61b61135a7451b93d2a4121813f40e",
              "IPY_MODEL_819cb0d0299946a49b674f384b0bdda0",
              "IPY_MODEL_8cff11ccf1044c8aa8f07914602f6a76"
            ],
            "layout": "IPY_MODEL_0dfaac9e087d42d19b98639e205f5dc0"
          }
        },
        "bdc8e1376f99421db0bb6551fada96c2": {
          "model_module": "@jupyter-widgets/controls",
          "model_module_version": "1.5.0",
          "model_name": "FloatProgressModel",
          "state": {
            "_dom_classes": [],
            "_model_module": "@jupyter-widgets/controls",
            "_model_module_version": "1.5.0",
            "_model_name": "FloatProgressModel",
            "_view_count": null,
            "_view_module": "@jupyter-widgets/controls",
            "_view_module_version": "1.5.0",
            "_view_name": "ProgressView",
            "bar_style": "success",
            "description": "",
            "description_tooltip": null,
            "layout": "IPY_MODEL_808e55fe77ff463eacf33ed78b7e36bc",
            "max": 231508,
            "min": 0,
            "orientation": "horizontal",
            "style": "IPY_MODEL_6eaac1b66c8944b2881570508f63abfc",
            "value": 231508
          }
        },
        "c2ac46968c6f4da580d913de3a33b00b": {
          "model_module": "@jupyter-widgets/controls",
          "model_module_version": "1.5.0",
          "model_name": "HTMLModel",
          "state": {
            "_dom_classes": [],
            "_model_module": "@jupyter-widgets/controls",
            "_model_module_version": "1.5.0",
            "_model_name": "HTMLModel",
            "_view_count": null,
            "_view_module": "@jupyter-widgets/controls",
            "_view_module_version": "1.5.0",
            "_view_name": "HTMLView",
            "description": "",
            "description_tooltip": null,
            "layout": "IPY_MODEL_910bc088a2694cf481d84948471dfc80",
            "placeholder": "​",
            "style": "IPY_MODEL_59ae36797c7c4dad930130b2bba43307",
            "value": "config.json: 100%"
          }
        },
        "c4250e2423a944ecbdf163639ca63701": {
          "model_module": "@jupyter-widgets/controls",
          "model_module_version": "1.5.0",
          "model_name": "HBoxModel",
          "state": {
            "_dom_classes": [],
            "_model_module": "@jupyter-widgets/controls",
            "_model_module_version": "1.5.0",
            "_model_name": "HBoxModel",
            "_view_count": null,
            "_view_module": "@jupyter-widgets/controls",
            "_view_module_version": "1.5.0",
            "_view_name": "HBoxView",
            "box_style": "",
            "children": [
              "IPY_MODEL_28b6b32b38fe473ab4ae24b0ba46bba9",
              "IPY_MODEL_bdc8e1376f99421db0bb6551fada96c2",
              "IPY_MODEL_3fcca5ea077a415ea91ebf771928356a"
            ],
            "layout": "IPY_MODEL_ca5b2a0d5b2646618f684a1ae79b4361"
          }
        },
        "c8ac101405e1402c85d603f15ea26c43": {
          "model_module": "@jupyter-widgets/controls",
          "model_module_version": "1.5.0",
          "model_name": "DescriptionStyleModel",
          "state": {
            "_model_module": "@jupyter-widgets/controls",
            "_model_module_version": "1.5.0",
            "_model_name": "DescriptionStyleModel",
            "_view_count": null,
            "_view_module": "@jupyter-widgets/base",
            "_view_module_version": "1.2.0",
            "_view_name": "StyleView",
            "description_width": ""
          }
        },
        "ca5b2a0d5b2646618f684a1ae79b4361": {
          "model_module": "@jupyter-widgets/base",
          "model_module_version": "1.2.0",
          "model_name": "LayoutModel",
          "state": {
            "_model_module": "@jupyter-widgets/base",
            "_model_module_version": "1.2.0",
            "_model_name": "LayoutModel",
            "_view_count": null,
            "_view_module": "@jupyter-widgets/base",
            "_view_module_version": "1.2.0",
            "_view_name": "LayoutView",
            "align_content": null,
            "align_items": null,
            "align_self": null,
            "border": null,
            "bottom": null,
            "display": null,
            "flex": null,
            "flex_flow": null,
            "grid_area": null,
            "grid_auto_columns": null,
            "grid_auto_flow": null,
            "grid_auto_rows": null,
            "grid_column": null,
            "grid_gap": null,
            "grid_row": null,
            "grid_template_areas": null,
            "grid_template_columns": null,
            "grid_template_rows": null,
            "height": null,
            "justify_content": null,
            "justify_items": null,
            "left": null,
            "margin": null,
            "max_height": null,
            "max_width": null,
            "min_height": null,
            "min_width": null,
            "object_fit": null,
            "object_position": null,
            "order": null,
            "overflow": null,
            "overflow_x": null,
            "overflow_y": null,
            "padding": null,
            "right": null,
            "top": null,
            "visibility": null,
            "width": null
          }
        },
        "d135b450639c49e6aec61626f3fb6516": {
          "model_module": "@jupyter-widgets/base",
          "model_module_version": "1.2.0",
          "model_name": "LayoutModel",
          "state": {
            "_model_module": "@jupyter-widgets/base",
            "_model_module_version": "1.2.0",
            "_model_name": "LayoutModel",
            "_view_count": null,
            "_view_module": "@jupyter-widgets/base",
            "_view_module_version": "1.2.0",
            "_view_name": "LayoutView",
            "align_content": null,
            "align_items": null,
            "align_self": null,
            "border": null,
            "bottom": null,
            "display": null,
            "flex": null,
            "flex_flow": null,
            "grid_area": null,
            "grid_auto_columns": null,
            "grid_auto_flow": null,
            "grid_auto_rows": null,
            "grid_column": null,
            "grid_gap": null,
            "grid_row": null,
            "grid_template_areas": null,
            "grid_template_columns": null,
            "grid_template_rows": null,
            "height": null,
            "justify_content": null,
            "justify_items": null,
            "left": null,
            "margin": null,
            "max_height": null,
            "max_width": null,
            "min_height": null,
            "min_width": null,
            "object_fit": null,
            "object_position": null,
            "order": null,
            "overflow": null,
            "overflow_x": null,
            "overflow_y": null,
            "padding": null,
            "right": null,
            "top": null,
            "visibility": null,
            "width": null
          }
        },
        "d2c9297d33dc4435af13be4bc78ecddf": {
          "model_module": "@jupyter-widgets/base",
          "model_module_version": "1.2.0",
          "model_name": "LayoutModel",
          "state": {
            "_model_module": "@jupyter-widgets/base",
            "_model_module_version": "1.2.0",
            "_model_name": "LayoutModel",
            "_view_count": null,
            "_view_module": "@jupyter-widgets/base",
            "_view_module_version": "1.2.0",
            "_view_name": "LayoutView",
            "align_content": null,
            "align_items": null,
            "align_self": null,
            "border": null,
            "bottom": null,
            "display": null,
            "flex": null,
            "flex_flow": null,
            "grid_area": null,
            "grid_auto_columns": null,
            "grid_auto_flow": null,
            "grid_auto_rows": null,
            "grid_column": null,
            "grid_gap": null,
            "grid_row": null,
            "grid_template_areas": null,
            "grid_template_columns": null,
            "grid_template_rows": null,
            "height": null,
            "justify_content": null,
            "justify_items": null,
            "left": null,
            "margin": null,
            "max_height": null,
            "max_width": null,
            "min_height": null,
            "min_width": null,
            "object_fit": null,
            "object_position": null,
            "order": null,
            "overflow": null,
            "overflow_x": null,
            "overflow_y": null,
            "padding": null,
            "right": null,
            "top": null,
            "visibility": null,
            "width": null
          }
        },
        "e3cddb7935cd45be842c64f33a4eca32": {
          "model_module": "@jupyter-widgets/controls",
          "model_module_version": "1.5.0",
          "model_name": "FloatProgressModel",
          "state": {
            "_dom_classes": [],
            "_model_module": "@jupyter-widgets/controls",
            "_model_module_version": "1.5.0",
            "_model_name": "FloatProgressModel",
            "_view_count": null,
            "_view_module": "@jupyter-widgets/controls",
            "_view_module_version": "1.5.0",
            "_view_name": "ProgressView",
            "bar_style": "success",
            "description": "",
            "description_tooltip": null,
            "layout": "IPY_MODEL_ebbb1eb282964eb4a4f9a4386d8a4f20",
            "max": 629,
            "min": 0,
            "orientation": "horizontal",
            "style": "IPY_MODEL_03ea66a13b184ddc85764ce932a38fb3",
            "value": 629
          }
        },
        "e9fe7f8fd9964456bbeef9a01c3b8f80": {
          "model_module": "@jupyter-widgets/controls",
          "model_module_version": "1.5.0",
          "model_name": "HBoxModel",
          "state": {
            "_dom_classes": [],
            "_model_module": "@jupyter-widgets/controls",
            "_model_module_version": "1.5.0",
            "_model_name": "HBoxModel",
            "_view_count": null,
            "_view_module": "@jupyter-widgets/controls",
            "_view_module_version": "1.5.0",
            "_view_name": "HBoxView",
            "box_style": "",
            "children": [
              "IPY_MODEL_c2ac46968c6f4da580d913de3a33b00b",
              "IPY_MODEL_e3cddb7935cd45be842c64f33a4eca32",
              "IPY_MODEL_8869eefea91e48a6a3738d5bff9d51f4"
            ],
            "layout": "IPY_MODEL_ed46447b2eda4fd1a0f1bab421b27e06"
          }
        },
        "ebbb1eb282964eb4a4f9a4386d8a4f20": {
          "model_module": "@jupyter-widgets/base",
          "model_module_version": "1.2.0",
          "model_name": "LayoutModel",
          "state": {
            "_model_module": "@jupyter-widgets/base",
            "_model_module_version": "1.2.0",
            "_model_name": "LayoutModel",
            "_view_count": null,
            "_view_module": "@jupyter-widgets/base",
            "_view_module_version": "1.2.0",
            "_view_name": "LayoutView",
            "align_content": null,
            "align_items": null,
            "align_self": null,
            "border": null,
            "bottom": null,
            "display": null,
            "flex": null,
            "flex_flow": null,
            "grid_area": null,
            "grid_auto_columns": null,
            "grid_auto_flow": null,
            "grid_auto_rows": null,
            "grid_column": null,
            "grid_gap": null,
            "grid_row": null,
            "grid_template_areas": null,
            "grid_template_columns": null,
            "grid_template_rows": null,
            "height": null,
            "justify_content": null,
            "justify_items": null,
            "left": null,
            "margin": null,
            "max_height": null,
            "max_width": null,
            "min_height": null,
            "min_width": null,
            "object_fit": null,
            "object_position": null,
            "order": null,
            "overflow": null,
            "overflow_x": null,
            "overflow_y": null,
            "padding": null,
            "right": null,
            "top": null,
            "visibility": null,
            "width": null
          }
        },
        "ed46447b2eda4fd1a0f1bab421b27e06": {
          "model_module": "@jupyter-widgets/base",
          "model_module_version": "1.2.0",
          "model_name": "LayoutModel",
          "state": {
            "_model_module": "@jupyter-widgets/base",
            "_model_module_version": "1.2.0",
            "_model_name": "LayoutModel",
            "_view_count": null,
            "_view_module": "@jupyter-widgets/base",
            "_view_module_version": "1.2.0",
            "_view_name": "LayoutView",
            "align_content": null,
            "align_items": null,
            "align_self": null,
            "border": null,
            "bottom": null,
            "display": null,
            "flex": null,
            "flex_flow": null,
            "grid_area": null,
            "grid_auto_columns": null,
            "grid_auto_flow": null,
            "grid_auto_rows": null,
            "grid_column": null,
            "grid_gap": null,
            "grid_row": null,
            "grid_template_areas": null,
            "grid_template_columns": null,
            "grid_template_rows": null,
            "height": null,
            "justify_content": null,
            "justify_items": null,
            "left": null,
            "margin": null,
            "max_height": null,
            "max_width": null,
            "min_height": null,
            "min_width": null,
            "object_fit": null,
            "object_position": null,
            "order": null,
            "overflow": null,
            "overflow_x": null,
            "overflow_y": null,
            "padding": null,
            "right": null,
            "top": null,
            "visibility": null,
            "width": null
          }
        },
        "fa657bf98e2446b98d63e5a2b71f1fe1": {
          "model_module": "@jupyter-widgets/base",
          "model_module_version": "1.2.0",
          "model_name": "LayoutModel",
          "state": {
            "_model_module": "@jupyter-widgets/base",
            "_model_module_version": "1.2.0",
            "_model_name": "LayoutModel",
            "_view_count": null,
            "_view_module": "@jupyter-widgets/base",
            "_view_module_version": "1.2.0",
            "_view_name": "LayoutView",
            "align_content": null,
            "align_items": null,
            "align_self": null,
            "border": null,
            "bottom": null,
            "display": null,
            "flex": null,
            "flex_flow": null,
            "grid_area": null,
            "grid_auto_columns": null,
            "grid_auto_flow": null,
            "grid_auto_rows": null,
            "grid_column": null,
            "grid_gap": null,
            "grid_row": null,
            "grid_template_areas": null,
            "grid_template_columns": null,
            "grid_template_rows": null,
            "height": null,
            "justify_content": null,
            "justify_items": null,
            "left": null,
            "margin": null,
            "max_height": null,
            "max_width": null,
            "min_height": null,
            "min_width": null,
            "object_fit": null,
            "object_position": null,
            "order": null,
            "overflow": null,
            "overflow_x": null,
            "overflow_y": null,
            "padding": null,
            "right": null,
            "top": null,
            "visibility": null,
            "width": null
          }
        }
      }
    }
  },
  "nbformat": 4,
  "nbformat_minor": 0
}
